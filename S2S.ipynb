{
 "cells": [
  {
   "cell_type": "code",
   "execution_count": 96,
   "metadata": {},
   "outputs": [],
   "source": [
    "import pandas as pd\n",
    "import numpy as np\n",
    "import matplotlib.pyplot as plt\n",
    "%matplotlib inline\n",
    "\n",
    "import seaborn as sns\n",
    "sns.set()\n",
    "import warnings\n",
    "warnings.filterwarnings('ignore')"
   ]
  },
  {
   "cell_type": "code",
   "execution_count": 97,
   "metadata": {},
   "outputs": [
    {
     "name": "stdout",
     "output_type": "stream",
     "text": [
      "(159, 621)\n"
     ]
    },
    {
     "data": {
      "text/html": [
       "<div>\n",
       "<style scoped>\n",
       "    .dataframe tbody tr th:only-of-type {\n",
       "        vertical-align: middle;\n",
       "    }\n",
       "\n",
       "    .dataframe tbody tr th {\n",
       "        vertical-align: top;\n",
       "    }\n",
       "\n",
       "    .dataframe thead th {\n",
       "        text-align: right;\n",
       "    }\n",
       "</style>\n",
       "<table border=\"1\" class=\"dataframe\">\n",
       "  <thead>\n",
       "    <tr style=\"text-align: right;\">\n",
       "      <th></th>\n",
       "      <th>Date</th>\n",
       "      <th>9/28/2003</th>\n",
       "      <th>10/5/2003</th>\n",
       "      <th>10/12/2003</th>\n",
       "      <th>10/19/2003</th>\n",
       "      <th>10/26/2003</th>\n",
       "      <th>11/2/2003</th>\n",
       "      <th>11/9/2003</th>\n",
       "      <th>11/16/2003</th>\n",
       "      <th>11/23/2003</th>\n",
       "      <th>...</th>\n",
       "      <th>6/7/2015</th>\n",
       "      <th>6/14/2015</th>\n",
       "      <th>6/21/2015</th>\n",
       "      <th>6/28/2015</th>\n",
       "      <th>7/5/2015</th>\n",
       "      <th>7/12/2015</th>\n",
       "      <th>7/19/2015</th>\n",
       "      <th>7/26/2015</th>\n",
       "      <th>8/2/2015</th>\n",
       "      <th>8/9/2015</th>\n",
       "    </tr>\n",
       "  </thead>\n",
       "  <tbody>\n",
       "    <tr>\n",
       "      <td>0</td>\n",
       "      <td>United States</td>\n",
       "      <td>902.0</td>\n",
       "      <td>952.0</td>\n",
       "      <td>1092.0</td>\n",
       "      <td>1209.0</td>\n",
       "      <td>1249.0</td>\n",
       "      <td>1374.0</td>\n",
       "      <td>1702.0</td>\n",
       "      <td>2148.0</td>\n",
       "      <td>2968.0</td>\n",
       "      <td>...</td>\n",
       "      <td>1150</td>\n",
       "      <td>786</td>\n",
       "      <td>820</td>\n",
       "      <td>1073</td>\n",
       "      <td>1024</td>\n",
       "      <td>770</td>\n",
       "      <td>767</td>\n",
       "      <td>666</td>\n",
       "      <td>735</td>\n",
       "      <td>671</td>\n",
       "    </tr>\n",
       "    <tr>\n",
       "      <td>1</td>\n",
       "      <td>Alabama</td>\n",
       "      <td>477.0</td>\n",
       "      <td>501.0</td>\n",
       "      <td>492.0</td>\n",
       "      <td>533.0</td>\n",
       "      <td>594.0</td>\n",
       "      <td>715.0</td>\n",
       "      <td>840.0</td>\n",
       "      <td>1064.0</td>\n",
       "      <td>1458.0</td>\n",
       "      <td>...</td>\n",
       "      <td>910</td>\n",
       "      <td>735</td>\n",
       "      <td>651</td>\n",
       "      <td>707</td>\n",
       "      <td>589</td>\n",
       "      <td>549</td>\n",
       "      <td>486</td>\n",
       "      <td>470</td>\n",
       "      <td>565</td>\n",
       "      <td>682</td>\n",
       "    </tr>\n",
       "    <tr>\n",
       "      <td>2</td>\n",
       "      <td>Alaska</td>\n",
       "      <td>NaN</td>\n",
       "      <td>NaN</td>\n",
       "      <td>NaN</td>\n",
       "      <td>NaN</td>\n",
       "      <td>NaN</td>\n",
       "      <td>NaN</td>\n",
       "      <td>NaN</td>\n",
       "      <td>NaN</td>\n",
       "      <td>NaN</td>\n",
       "      <td>...</td>\n",
       "      <td>910</td>\n",
       "      <td>873</td>\n",
       "      <td>828</td>\n",
       "      <td>780</td>\n",
       "      <td>755</td>\n",
       "      <td>685</td>\n",
       "      <td>678</td>\n",
       "      <td>688</td>\n",
       "      <td>664</td>\n",
       "      <td>718</td>\n",
       "    </tr>\n",
       "    <tr>\n",
       "      <td>3</td>\n",
       "      <td>Arizona</td>\n",
       "      <td>606.0</td>\n",
       "      <td>663.0</td>\n",
       "      <td>700.0</td>\n",
       "      <td>819.0</td>\n",
       "      <td>959.0</td>\n",
       "      <td>1167.0</td>\n",
       "      <td>1655.0</td>\n",
       "      <td>2662.0</td>\n",
       "      <td>4935.0</td>\n",
       "      <td>...</td>\n",
       "      <td>1423</td>\n",
       "      <td>720</td>\n",
       "      <td>637</td>\n",
       "      <td>1113</td>\n",
       "      <td>1582</td>\n",
       "      <td>1065</td>\n",
       "      <td>953</td>\n",
       "      <td>1041</td>\n",
       "      <td>963</td>\n",
       "      <td>1031</td>\n",
       "    </tr>\n",
       "    <tr>\n",
       "      <td>4</td>\n",
       "      <td>Arkansas</td>\n",
       "      <td>NaN</td>\n",
       "      <td>NaN</td>\n",
       "      <td>NaN</td>\n",
       "      <td>NaN</td>\n",
       "      <td>NaN</td>\n",
       "      <td>NaN</td>\n",
       "      <td>NaN</td>\n",
       "      <td>NaN</td>\n",
       "      <td>NaN</td>\n",
       "      <td>...</td>\n",
       "      <td>1289</td>\n",
       "      <td>1371</td>\n",
       "      <td>1616</td>\n",
       "      <td>1547</td>\n",
       "      <td>1449</td>\n",
       "      <td>1256</td>\n",
       "      <td>1267</td>\n",
       "      <td>1129</td>\n",
       "      <td>1104</td>\n",
       "      <td>1106</td>\n",
       "    </tr>\n",
       "  </tbody>\n",
       "</table>\n",
       "<p>5 rows × 621 columns</p>\n",
       "</div>"
      ],
      "text/plain": [
       "            Date  9/28/2003  10/5/2003  10/12/2003  10/19/2003  10/26/2003  \\\n",
       "0  United States      902.0      952.0      1092.0      1209.0      1249.0   \n",
       "1        Alabama      477.0      501.0       492.0       533.0       594.0   \n",
       "2         Alaska        NaN        NaN         NaN         NaN         NaN   \n",
       "3        Arizona      606.0      663.0       700.0       819.0       959.0   \n",
       "4       Arkansas        NaN        NaN         NaN         NaN         NaN   \n",
       "\n",
       "   11/2/2003  11/9/2003  11/16/2003  11/23/2003  ...  6/7/2015  6/14/2015  \\\n",
       "0     1374.0     1702.0      2148.0      2968.0  ...      1150        786   \n",
       "1      715.0      840.0      1064.0      1458.0  ...       910        735   \n",
       "2        NaN        NaN         NaN         NaN  ...       910        873   \n",
       "3     1167.0     1655.0      2662.0      4935.0  ...      1423        720   \n",
       "4        NaN        NaN         NaN         NaN  ...      1289       1371   \n",
       "\n",
       "   6/21/2015  6/28/2015  7/5/2015  7/12/2015  7/19/2015  7/26/2015  8/2/2015  \\\n",
       "0        820       1073      1024        770        767        666       735   \n",
       "1        651        707       589        549        486        470       565   \n",
       "2        828        780       755        685        678        688       664   \n",
       "3        637       1113      1582       1065        953       1041       963   \n",
       "4       1616       1547      1449       1256       1267       1129      1104   \n",
       "\n",
       "   8/9/2015  \n",
       "0       671  \n",
       "1       682  \n",
       "2       718  \n",
       "3      1031  \n",
       "4      1106  \n",
       "\n",
       "[5 rows x 621 columns]"
      ]
     },
     "execution_count": 97,
     "metadata": {},
     "output_type": "execute_result"
    }
   ],
   "source": [
    "df = pd.read_csv('~/Desktop/googleflu.csv')\n",
    "print(df.shape)\n",
    "df.head()"
   ]
  },
  {
   "cell_type": "code",
   "execution_count": 98,
   "metadata": {},
   "outputs": [
    {
     "name": "stdout",
     "output_type": "stream",
     "text": [
      "<class 'pandas.core.frame.DataFrame'>\n",
      "RangeIndex: 159 entries, 0 to 158\n",
      "Columns: 621 entries, Date to 8/9/2015\n",
      "dtypes: float64(218), int64(402), object(1)\n",
      "memory usage: 771.5+ KB\n"
     ]
    }
   ],
   "source": [
    "df.info()"
   ]
  },
  {
   "cell_type": "code",
   "execution_count": 99,
   "metadata": {},
   "outputs": [
    {
     "name": "stdout",
     "output_type": "stream",
     "text": [
      "Data ranges from 9/28/2003 to 8/9/2015\n"
     ]
    }
   ],
   "source": [
    "data_start_date = df.columns[1]\n",
    "data_end_date = df.columns[-1]\n",
    "print('Data ranges from %s to %s' % (data_start_date, data_end_date))"
   ]
  },
  {
   "cell_type": "code",
   "execution_count": 100,
   "metadata": {},
   "outputs": [],
   "source": [
    "from datetime import timedelta\n",
    "\n",
    "pred_steps = 14\n",
    "pred_length=timedelta(weeks = pred_steps)\n",
    "\n",
    "first_day = pd.to_datetime(data_start_date) \n",
    "last_day = pd.to_datetime(data_end_date)\n",
    "\n",
    "val_pred_start = last_day - pred_length + timedelta(1)\n",
    "val_pred_end = last_day\n",
    "\n",
    "train_pred_start = val_pred_start - pred_length\n",
    "train_pred_end = val_pred_start - timedelta(days=1) "
   ]
  },
  {
   "cell_type": "code",
   "execution_count": 101,
   "metadata": {},
   "outputs": [],
   "source": [
    "enc_length = train_pred_start - first_day\n",
    "\n",
    "train_enc_start = first_day\n",
    "train_enc_end = train_enc_start + enc_length - timedelta(1)\n",
    "\n",
    "val_enc_start = train_enc_start + pred_length\n",
    "val_enc_end = val_enc_start + enc_length - timedelta(1) "
   ]
  },
  {
   "cell_type": "code",
   "execution_count": 102,
   "metadata": {},
   "outputs": [
    {
     "name": "stdout",
     "output_type": "stream",
     "text": [
      "Train encoding: 2003-09-28 00:00:00 - 2015-01-25 00:00:00\n",
      "Train prediction: 2015-01-26 00:00:00 - 2015-05-03 00:00:00 \n",
      "\n",
      "Val encoding: 2004-01-04 00:00:00 - 2015-05-03 00:00:00\n",
      "Val prediction: 2015-05-04 00:00:00 - 2015-08-09 00:00:00\n",
      "\n",
      "Encoding interval: 4138\n",
      "Prediction interval: 98\n"
     ]
    }
   ],
   "source": [
    "print('Train encoding:', train_enc_start, '-', train_enc_end)\n",
    "print('Train prediction:', train_pred_start, '-', train_pred_end, '\\n')\n",
    "print('Val encoding:', val_enc_start, '-', val_enc_end)\n",
    "print('Val prediction:', val_pred_start, '-', val_pred_end)\n",
    "\n",
    "print('\\nEncoding interval:', enc_length.days)\n",
    "print('Prediction interval:', pred_length.days)"
   ]
  },
  {
   "cell_type": "code",
   "execution_count": 103,
   "metadata": {},
   "outputs": [],
   "source": [
    "date_to_index = pd.Series(index=pd.Index([pd.to_datetime(c) for c in df.columns[1:]]),\n",
    "                          data=[i for i in range(len(df.columns[1:]))])\n",
    "\n",
    "series_array = df[df.columns[1:]].values\n",
    "\n",
    "def get_time_block_series(series_array, date_to_index, start_date, end_date):\n",
    "    \n",
    "    inds = date_to_index[start_date:end_date]\n",
    "    return series_array[:,inds]\n",
    "\n",
    "def transform_series_encode(series_array):\n",
    "    \n",
    "    series_array = np.log1p(np.nan_to_num(series_array))\n",
    "    series_mean = series_array.mean(axis=1).reshape(-1,1) \n",
    "    series_array = series_array - series_mean\n",
    "    series_array = series_array.reshape((series_array.shape[0],series_array.shape[1], 1))\n",
    "    \n",
    "    return series_array, series_mean\n",
    "\n",
    "def transform_series_decode(series_array, encode_series_mean):\n",
    "    \n",
    "    series_array = np.log1p(np.nan_to_num(series_array))\n",
    "    series_array = series_array - encode_series_mean\n",
    "    series_array = series_array.reshape((series_array.shape[0],series_array.shape[1], 1))\n",
    "    \n",
    "    return series_array"
   ]
  },
  {
   "cell_type": "code",
   "execution_count": 104,
   "metadata": {},
   "outputs": [],
   "source": [
    "import tensorflow as tf\n",
    "Model = tf.keras.models.Model\n",
    "Input = tf.keras.Input\n",
    "\n",
    "#from keras.models import Model\n",
    "#from keras.layers import Input, LSTM, Dense\n",
    "#from keras.optimizers import Adam\n",
    "\n",
    "latent_dim = 10 # LSTM hidden units\n",
    "dropout = .01 \n",
    "\n",
    "# Define an input series and encode it with an LSTM. \n",
    "encoder_inputs = tf.keras.layers.Input(shape=(None, 1)) \n",
    "encoder = tf.keras.layers.LSTM(latent_dim, dropout=dropout, return_state=True)\n",
    "encoder_outputs, state_h, state_c = encoder(encoder_inputs)\n",
    "\n",
    "# We discard `encoder_outputs` and only keep the final states. These represent the \"context\"\n",
    "# vector that we use as the basis for decoding.\n",
    "encoder_states = [state_h, state_c]\n",
    "\n",
    "# Set up the decoder, using `encoder_states` as initial state.\n",
    "# This is where teacher forcing inputs are fed in.\n",
    "decoder_inputs = tf.keras.layers.Input(shape=(None, 1)) \n",
    "\n",
    "# We set up our decoder using `encoder_states` as initial state.  \n",
    "# We return full output sequences and return internal states as well. \n",
    "# We don't use the return states in the training model, but we will use them in inference.\n",
    "decoder_lstm = tf.keras.layers.LSTM(latent_dim, dropout=dropout, return_sequences=True, return_state=True)\n",
    "decoder_outputs, _, _ = decoder_lstm(decoder_inputs,\n",
    "                                     initial_state=encoder_states)\n",
    "\n",
    "decoder_dense = tf.keras.layers.Dense(1) # 1 continuous output at each timestep\n",
    "decoder_outputs = decoder_dense(decoder_outputs)\n",
    "\n",
    "# Define the model that will turn\n",
    "# `encoder_input_data` & `decoder_input_data` into `decoder_target_data`\n",
    "model = tf.keras.models.Model([encoder_inputs, decoder_inputs], decoder_outputs)"
   ]
  },
  {
   "cell_type": "code",
   "execution_count": 105,
   "metadata": {},
   "outputs": [],
   "source": [
    "first_n_samples = 40\n",
    "batch_size = 8\n",
    "epochs = 20\n",
    "\n",
    "encoder_input_data = get_time_block_series(series_array, date_to_index, \n",
    "                                           train_enc_start, train_enc_end)[:first_n_samples]\n",
    "encoder_input_data, encode_series_mean = transform_series_encode(encoder_input_data)\n",
    " \n",
    "decoder_target_data = get_time_block_series(series_array, date_to_index, \n",
    "                                            train_pred_start, train_pred_end)[:first_n_samples]\n",
    "decoder_target_data = transform_series_decode(decoder_target_data, encode_series_mean)\n",
    "\n",
    "decoder_input_data = np.zeros(decoder_target_data.shape)\n",
    "decoder_input_data[:,1:,0] = decoder_target_data[:,:-1,0]\n",
    "decoder_input_data[:,0,0] = encoder_input_data[:,-1,0]"
   ]
  },
  {
   "cell_type": "code",
   "execution_count": 106,
   "metadata": {},
   "outputs": [
    {
     "data": {
      "text/plain": [
       "((40, 592, 1), (40, 14, 1), (40, 14, 1))"
      ]
     },
     "execution_count": 106,
     "metadata": {},
     "output_type": "execute_result"
    }
   ],
   "source": [
    "encoder_input_data.shape, decoder_input_data.shape, decoder_target_data.shape"
   ]
  },
  {
   "cell_type": "code",
   "execution_count": 107,
   "metadata": {},
   "outputs": [
    {
     "name": "stdout",
     "output_type": "stream",
     "text": [
      "Train on 32 samples, validate on 8 samples\n",
      "Epoch 1/20\n",
      "32/32 [==============================] - 3s 102ms/sample - loss: 0.5682 - val_loss: 0.6621\n",
      "Epoch 2/20\n",
      "32/32 [==============================] - 1s 23ms/sample - loss: 0.5148 - val_loss: 0.6239\n",
      "Epoch 3/20\n",
      "32/32 [==============================] - 1s 25ms/sample - loss: 0.4699 - val_loss: 0.5919\n",
      "Epoch 4/20\n",
      "32/32 [==============================] - 1s 24ms/sample - loss: 0.4293 - val_loss: 0.5654\n",
      "Epoch 5/20\n",
      "32/32 [==============================] - 1s 24ms/sample - loss: 0.3993 - val_loss: 0.5457\n",
      "Epoch 6/20\n",
      "32/32 [==============================] - 1s 25ms/sample - loss: 0.3722 - val_loss: 0.5298\n",
      "Epoch 7/20\n",
      "32/32 [==============================] - 1s 23ms/sample - loss: 0.3559 - val_loss: 0.5169\n",
      "Epoch 8/20\n",
      "32/32 [==============================] - 1s 23ms/sample - loss: 0.3388 - val_loss: 0.5048\n",
      "Epoch 9/20\n",
      "32/32 [==============================] - 1s 22ms/sample - loss: 0.3275 - val_loss: 0.4919\n",
      "Epoch 10/20\n",
      "32/32 [==============================] - 1s 22ms/sample - loss: 0.3141 - val_loss: 0.4770\n",
      "Epoch 11/20\n",
      "32/32 [==============================] - 1s 25ms/sample - loss: 0.2999 - val_loss: 0.4611\n",
      "Epoch 12/20\n",
      "32/32 [==============================] - 1s 27ms/sample - loss: 0.2845 - val_loss: 0.4452\n",
      "Epoch 13/20\n",
      "32/32 [==============================] - 1s 24ms/sample - loss: 0.2757 - val_loss: 0.4300\n",
      "Epoch 14/20\n",
      "32/32 [==============================] - 1s 23ms/sample - loss: 0.2652 - val_loss: 0.4154\n",
      "Epoch 15/20\n",
      "32/32 [==============================] - 1s 22ms/sample - loss: 0.2586 - val_loss: 0.4011\n",
      "Epoch 16/20\n",
      "32/32 [==============================] - 1s 25ms/sample - loss: 0.2497 - val_loss: 0.3878\n",
      "Epoch 17/20\n",
      "32/32 [==============================] - 1s 23ms/sample - loss: 0.2444 - val_loss: 0.3747\n",
      "Epoch 18/20\n",
      "32/32 [==============================] - 1s 22ms/sample - loss: 0.2356 - val_loss: 0.3626\n",
      "Epoch 19/20\n",
      "32/32 [==============================] - 1s 23ms/sample - loss: 0.2311 - val_loss: 0.3509\n",
      "Epoch 20/20\n",
      "32/32 [==============================] - 1s 24ms/sample - loss: 0.2254 - val_loss: 0.3403\n"
     ]
    }
   ],
   "source": [
    "model.compile(tf.keras.optimizers.Adam(), loss='mean_absolute_error')\n",
    "history = model.fit([encoder_input_data, decoder_input_data], decoder_target_data,\n",
    "                     batch_size=batch_size,\n",
    "                     epochs=epochs,\n",
    "                     validation_split=0.2)"
   ]
  },
  {
   "cell_type": "code",
   "execution_count": 108,
   "metadata": {},
   "outputs": [
    {
     "data": {
      "text/plain": [
       "<matplotlib.legend.Legend at 0x11edd92d0>"
      ]
     },
     "execution_count": 108,
     "metadata": {},
     "output_type": "execute_result"
    },
    {
     "data": {
      "image/png": "[encoded data removed]",
      "text/plain": [
       "<Figure size 432x288 with 1 Axes>"
      ]
     },
     "metadata": {},
     "output_type": "display_data"
    }
   ],
   "source": [
    "plt.plot(history.history['loss'])\n",
    "plt.plot(history.history['val_loss'])\n",
    "\n",
    "plt.xlabel('Epoch')\n",
    "plt.ylabel('Mean Absolute Error Loss')\n",
    "plt.title('Loss Over Time')\n",
    "plt.legend(['Train','Valid'])"
   ]
  },
  {
   "cell_type": "code",
   "execution_count": 109,
   "metadata": {},
   "outputs": [],
   "source": [
    "# from our previous model - mapping encoder sequence to state vectors\n",
    "encoder_model = Model(encoder_inputs, encoder_states)\n",
    "\n",
    "# A modified version of the decoding stage that takes in predicted target inputs\n",
    "# and encoded state vectors, returning predicted target outputs and decoder state vectors.\n",
    "# We need to hang onto these state vectors to run the next step of the inference loop.\n",
    "decoder_state_input_h = Input(shape=(latent_dim,))\n",
    "decoder_state_input_c = Input(shape=(latent_dim,))\n",
    "decoder_states_inputs = [decoder_state_input_h, decoder_state_input_c]\n",
    "\n",
    "decoder_outputs, state_h, state_c = decoder_lstm(decoder_inputs, initial_state=decoder_states_inputs)\n",
    "decoder_states = [state_h, state_c]\n",
    "\n",
    "decoder_outputs = decoder_dense(decoder_outputs)\n",
    "decoder_model = Model([decoder_inputs] + decoder_states_inputs,\n",
    "                      [decoder_outputs] + decoder_states)\n",
    "\n",
    "def decode_sequence(input_seq):\n",
    "    \n",
    "    # Encode the input as state vectors.\n",
    "    states_value = encoder_model.predict(input_seq)\n",
    "\n",
    "    # Generate empty target sequence of length 1.\n",
    "    target_seq = np.zeros((1, 1, 1))\n",
    "    \n",
    "    # Populate the first target sequence with end of encoding series pageviews\n",
    "    target_seq[0, 0, 0] = input_seq[0, -1, 0]\n",
    "\n",
    "    # Sampling loop for a batch of sequences - we will fill decoded_seq with predictions\n",
    "    # (to simplify, here we assume a batch of size 1).\n",
    "\n",
    "    decoded_seq = np.zeros((1,pred_steps,1))\n",
    "    \n",
    "    for i in range(pred_steps):\n",
    "        \n",
    "        output, h, c = decoder_model.predict([target_seq] + states_value)\n",
    "        \n",
    "        decoded_seq[0,i,0] = output[0,0,0]\n",
    "\n",
    "        # Update the target sequence (of length 1).\n",
    "        target_seq = np.zeros((1, 1, 1))\n",
    "        target_seq[0, 0, 0] = output[0,0,0]\n",
    "\n",
    "        # Update states\n",
    "        states_value = [h, c]\n",
    "\n",
    "    return decoded_seq"
   ]
  },
  {
   "cell_type": "code",
   "execution_count": 110,
   "metadata": {},
   "outputs": [],
   "source": [
    "encoder_input_data = get_time_block_series(series_array, date_to_index, val_enc_start, val_enc_end)\n",
    "encoder_input_data, encode_series_mean = transform_series_encode(encoder_input_data)\n",
    "\n",
    "decoder_target_data = get_time_block_series(series_array, date_to_index, val_pred_start, val_pred_end)\n",
    "decoder_target_data = transform_series_decode(decoder_target_data, encode_series_mean)"
   ]
  },
  {
   "cell_type": "code",
   "execution_count": 111,
   "metadata": {},
   "outputs": [],
   "source": [
    "def predict_and_plot(encoder_input_data, decoder_target_data, sample_ind, enc_tail_len=50):\n",
    "\n",
    "    encode_series = encoder_input_data[sample_ind:sample_ind+1,:,:] \n",
    "    pred_series = decode_sequence(encode_series)\n",
    "    \n",
    "    encode_series = encode_series.reshape(-1,1)\n",
    "    pred_series = pred_series.reshape(-1,1)   \n",
    "    target_series = decoder_target_data[sample_ind,:,:1].reshape(-1,1) \n",
    "    \n",
    "    encode_series_tail = np.concatenate([encode_series[-enc_tail_len:],\n",
    "                                         target_series[:1]])\n",
    "    x_encode = encode_series_tail.shape[0]\n",
    "    print(pred_series.shape)\n",
    "    \n",
    "    plt.figure(figsize=(10,6))   \n",
    "    \n",
    "    plt.plot(range(1,x_encode+1), encode_series_tail)\n",
    "    plt.plot(range(x_encode, x_encode+pred_steps),\n",
    "             target_series, color='orange')\n",
    "    plt.plot(range(x_encode, x_encode+pred_steps), \n",
    "             pred_series, color='teal', linestyle='--')\n",
    "    \n",
    "    plt.title('Encoder Series Tail of Length %d, Target Series, and Predictions' % enc_tail_len)\n",
    "    plt.legend(['Encoding Series','Target Series','Predictions'])"
   ]
  },
  {
   "cell_type": "code",
   "execution_count": 112,
   "metadata": {},
   "outputs": [],
   "source": [
    "  target_series = decoder_target_data[60,:,:1].reshape(-1,1) "
   ]
  },
  {
   "cell_type": "code",
   "execution_count": 113,
   "metadata": {},
   "outputs": [
    {
     "data": {
      "text/plain": [
       "array([[-0.15115119],\n",
       "       [ 0.29759397],\n",
       "       [-0.305549  ],\n",
       "       [-0.43169302],\n",
       "       [ 0.17862708],\n",
       "       [-1.33482246],\n",
       "       [-1.09677837],\n",
       "       [ 0.14777213],\n",
       "       [-0.95304159],\n",
       "       [-1.15573453],\n",
       "       [-1.05382125],\n",
       "       [-1.10252001],\n",
       "       [-1.0760033 ],\n",
       "       [-0.67116144]])"
      ]
     },
     "execution_count": 113,
     "metadata": {},
     "output_type": "execute_result"
    }
   ],
   "source": [
    "target_series"
   ]
  },
  {
   "cell_type": "code",
   "execution_count": 114,
   "metadata": {},
   "outputs": [
    {
     "data": {
      "text/plain": [
       "(159, 592, 1)"
      ]
     },
     "execution_count": 114,
     "metadata": {},
     "output_type": "execute_result"
    }
   ],
   "source": [
    "encoder_input_data.shape"
   ]
  },
  {
   "cell_type": "code",
   "execution_count": 115,
   "metadata": {},
   "outputs": [
    {
     "data": {
      "text/plain": [
       "(159, 14, 1)"
      ]
     },
     "execution_count": 115,
     "metadata": {},
     "output_type": "execute_result"
    }
   ],
   "source": [
    "decoder_target_data.shape"
   ]
  },
  {
   "cell_type": "code",
   "execution_count": 116,
   "metadata": {},
   "outputs": [
    {
     "name": "stdout",
     "output_type": "stream",
     "text": [
      "(14, 1)\n"
     ]
    },
    {
     "data": {
      "image/png": "[encoded data removed]",
      "text/plain": [
       "<Figure size 720x432 with 1 Axes>"
      ]
     },
     "metadata": {},
     "output_type": "display_data"
    }
   ],
   "source": [
    "predict_and_plot(encoder_input_data, decoder_target_data, 10) "
   ]
  },
  {
   "cell_type": "code",
   "execution_count": null,
   "metadata": {},
   "outputs": [],
   "source": []
  },
  {
   "cell_type": "code",
   "execution_count": null,
   "metadata": {},
   "outputs": [],
   "source": []
  },
  {
   "cell_type": "code",
   "execution_count": null,
   "metadata": {},
   "outputs": [],
   "source": []
  },
  {
   "cell_type": "code",
   "execution_count": null,
   "metadata": {},
   "outputs": [],
   "source": []
  }
 ],
 "metadata": {
  "kernelspec": {
   "display_name": "Python 3",
   "language": "python",
   "name": "python3"
  },
  "language_info": {
   "codemirror_mode": {
    "name": "ipython",
    "version": 3
   },
   "file_extension": ".py",
   "mimetype": "text/x-python",
   "name": "python",
   "nbconvert_exporter": "python",
   "pygments_lexer": "ipython3",
   "version": "3.7.4"
  }
 },
 "nbformat": 4,
 "nbformat_minor": 4
}
