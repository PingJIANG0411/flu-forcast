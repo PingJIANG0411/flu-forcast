{
 "cells": [
  {
   "cell_type": "code",
   "execution_count": 1,
   "metadata": {},
   "outputs": [],
   "source": [
    "import tensorflow as tf\n",
    "import matplotlib as mpl\n",
    "import matplotlib.pyplot as plt\n",
    "import numpy as np\n",
    "import os\n",
    "import pandas as pd"
   ]
  },
  {
   "cell_type": "code",
   "execution_count": 2,
   "metadata": {},
   "outputs": [
    {
     "data": {
      "text/html": [
       "<div>\n",
       "<style scoped>\n",
       "    .dataframe tbody tr th:only-of-type {\n",
       "        vertical-align: middle;\n",
       "    }\n",
       "\n",
       "    .dataframe tbody tr th {\n",
       "        vertical-align: top;\n",
       "    }\n",
       "\n",
       "    .dataframe thead th {\n",
       "        text-align: right;\n",
       "    }\n",
       "</style>\n",
       "<table border=\"1\" class=\"dataframe\">\n",
       "  <thead>\n",
       "    <tr style=\"text-align: right;\">\n",
       "      <th></th>\n",
       "      <th>Date</th>\n",
       "      <th>United States</th>\n",
       "      <th>Alabama</th>\n",
       "      <th>Alaska</th>\n",
       "      <th>Arizona</th>\n",
       "      <th>Arkansas</th>\n",
       "      <th>California</th>\n",
       "      <th>Colorado</th>\n",
       "      <th>Connecticut</th>\n",
       "      <th>Delaware</th>\n",
       "      <th>...</th>\n",
       "      <th>Salt Lake City, UT</th>\n",
       "      <th>Arlington, VA</th>\n",
       "      <th>Norfolk, VA</th>\n",
       "      <th>Reston, VA</th>\n",
       "      <th>Richmond, VA</th>\n",
       "      <th>Bellevue, WA</th>\n",
       "      <th>Seattle, WA</th>\n",
       "      <th>Spokane, WA</th>\n",
       "      <th>Madison, WI</th>\n",
       "      <th>Milwaukee, WI</th>\n",
       "    </tr>\n",
       "  </thead>\n",
       "  <tbody>\n",
       "    <tr>\n",
       "      <td>0</td>\n",
       "      <td>2003-09-28</td>\n",
       "      <td>902</td>\n",
       "      <td>477</td>\n",
       "      <td>NaN</td>\n",
       "      <td>606</td>\n",
       "      <td>NaN</td>\n",
       "      <td>929</td>\n",
       "      <td>233</td>\n",
       "      <td>223</td>\n",
       "      <td>NaN</td>\n",
       "      <td>...</td>\n",
       "      <td>261</td>\n",
       "      <td>1066</td>\n",
       "      <td>948</td>\n",
       "      <td>NaN</td>\n",
       "      <td>1035</td>\n",
       "      <td>NaN</td>\n",
       "      <td>668</td>\n",
       "      <td>NaN</td>\n",
       "      <td>622</td>\n",
       "      <td>452</td>\n",
       "    </tr>\n",
       "    <tr>\n",
       "      <td>1</td>\n",
       "      <td>2003-10-05</td>\n",
       "      <td>952</td>\n",
       "      <td>501</td>\n",
       "      <td>NaN</td>\n",
       "      <td>663</td>\n",
       "      <td>NaN</td>\n",
       "      <td>849</td>\n",
       "      <td>251</td>\n",
       "      <td>243</td>\n",
       "      <td>NaN</td>\n",
       "      <td>...</td>\n",
       "      <td>249</td>\n",
       "      <td>1249</td>\n",
       "      <td>963</td>\n",
       "      <td>NaN</td>\n",
       "      <td>1135</td>\n",
       "      <td>NaN</td>\n",
       "      <td>787</td>\n",
       "      <td>NaN</td>\n",
       "      <td>626</td>\n",
       "      <td>449</td>\n",
       "    </tr>\n",
       "    <tr>\n",
       "      <td>2</td>\n",
       "      <td>2003-10-12</td>\n",
       "      <td>1092</td>\n",
       "      <td>492</td>\n",
       "      <td>NaN</td>\n",
       "      <td>700</td>\n",
       "      <td>NaN</td>\n",
       "      <td>1032</td>\n",
       "      <td>283</td>\n",
       "      <td>261</td>\n",
       "      <td>NaN</td>\n",
       "      <td>...</td>\n",
       "      <td>295</td>\n",
       "      <td>1289</td>\n",
       "      <td>970</td>\n",
       "      <td>NaN</td>\n",
       "      <td>1170</td>\n",
       "      <td>NaN</td>\n",
       "      <td>994</td>\n",
       "      <td>NaN</td>\n",
       "      <td>661</td>\n",
       "      <td>437</td>\n",
       "    </tr>\n",
       "    <tr>\n",
       "      <td>3</td>\n",
       "      <td>2003-10-19</td>\n",
       "      <td>1209</td>\n",
       "      <td>533</td>\n",
       "      <td>NaN</td>\n",
       "      <td>819</td>\n",
       "      <td>NaN</td>\n",
       "      <td>1084</td>\n",
       "      <td>310</td>\n",
       "      <td>268</td>\n",
       "      <td>NaN</td>\n",
       "      <td>...</td>\n",
       "      <td>292</td>\n",
       "      <td>1308</td>\n",
       "      <td>1011</td>\n",
       "      <td>NaN</td>\n",
       "      <td>1342</td>\n",
       "      <td>NaN</td>\n",
       "      <td>999</td>\n",
       "      <td>NaN</td>\n",
       "      <td>649</td>\n",
       "      <td>487</td>\n",
       "    </tr>\n",
       "    <tr>\n",
       "      <td>4</td>\n",
       "      <td>2003-10-26</td>\n",
       "      <td>1249</td>\n",
       "      <td>594</td>\n",
       "      <td>NaN</td>\n",
       "      <td>959</td>\n",
       "      <td>NaN</td>\n",
       "      <td>989</td>\n",
       "      <td>344</td>\n",
       "      <td>334</td>\n",
       "      <td>NaN</td>\n",
       "      <td>...</td>\n",
       "      <td>328</td>\n",
       "      <td>1426</td>\n",
       "      <td>1009</td>\n",
       "      <td>NaN</td>\n",
       "      <td>1354</td>\n",
       "      <td>NaN</td>\n",
       "      <td>1297</td>\n",
       "      <td>NaN</td>\n",
       "      <td>657</td>\n",
       "      <td>499</td>\n",
       "    </tr>\n",
       "  </tbody>\n",
       "</table>\n",
       "<p>5 rows × 160 columns</p>\n",
       "</div>"
      ],
      "text/plain": [
       "         Date  United States  Alabama  Alaska  Arizona  Arkansas  California  \\\n",
       "0  2003-09-28            902      477     NaN      606       NaN         929   \n",
       "1  2003-10-05            952      501     NaN      663       NaN         849   \n",
       "2  2003-10-12           1092      492     NaN      700       NaN        1032   \n",
       "3  2003-10-19           1209      533     NaN      819       NaN        1084   \n",
       "4  2003-10-26           1249      594     NaN      959       NaN         989   \n",
       "\n",
       "   Colorado  Connecticut  Delaware  ...  Salt Lake City, UT  Arlington, VA  \\\n",
       "0       233          223       NaN  ...                 261           1066   \n",
       "1       251          243       NaN  ...                 249           1249   \n",
       "2       283          261       NaN  ...                 295           1289   \n",
       "3       310          268       NaN  ...                 292           1308   \n",
       "4       344          334       NaN  ...                 328           1426   \n",
       "\n",
       "   Norfolk, VA  Reston, VA  Richmond, VA  Bellevue, WA  Seattle, WA  \\\n",
       "0          948         NaN          1035           NaN          668   \n",
       "1          963         NaN          1135           NaN          787   \n",
       "2          970         NaN          1170           NaN          994   \n",
       "3         1011         NaN          1342           NaN          999   \n",
       "4         1009         NaN          1354           NaN         1297   \n",
       "\n",
       "   Spokane, WA  Madison, WI  Milwaukee, WI  \n",
       "0          NaN          622            452  \n",
       "1          NaN          626            449  \n",
       "2          NaN          661            437  \n",
       "3          NaN          649            487  \n",
       "4          NaN          657            499  \n",
       "\n",
       "[5 rows x 160 columns]"
      ]
     },
     "execution_count": 2,
     "metadata": {},
     "output_type": "execute_result"
    }
   ],
   "source": [
    "df = pd.read_csv('~/Desktop/googleflu 1.csv')\n",
    "df.head()"
   ]
  },
  {
   "cell_type": "code",
   "execution_count": 3,
   "metadata": {},
   "outputs": [
    {
     "data": {
      "text/html": [
       "<div>\n",
       "<style scoped>\n",
       "    .dataframe tbody tr th:only-of-type {\n",
       "        vertical-align: middle;\n",
       "    }\n",
       "\n",
       "    .dataframe tbody tr th {\n",
       "        vertical-align: top;\n",
       "    }\n",
       "\n",
       "    .dataframe thead th {\n",
       "        text-align: right;\n",
       "    }\n",
       "</style>\n",
       "<table border=\"1\" class=\"dataframe\">\n",
       "  <thead>\n",
       "    <tr style=\"text-align: right;\">\n",
       "      <th></th>\n",
       "      <th>Date</th>\n",
       "      <th>United States</th>\n",
       "      <th>Alabama</th>\n",
       "      <th>Alaska</th>\n",
       "      <th>Arizona</th>\n",
       "      <th>Arkansas</th>\n",
       "      <th>California</th>\n",
       "      <th>Colorado</th>\n",
       "      <th>Connecticut</th>\n",
       "      <th>Delaware</th>\n",
       "      <th>...</th>\n",
       "      <th>Arlington, VA</th>\n",
       "      <th>Norfolk, VA</th>\n",
       "      <th>Reston, VA</th>\n",
       "      <th>Richmond, VA</th>\n",
       "      <th>Bellevue, WA</th>\n",
       "      <th>Seattle, WA</th>\n",
       "      <th>Spokane, WA</th>\n",
       "      <th>Madison, WI</th>\n",
       "      <th>Milwaukee, WI</th>\n",
       "      <th>ds</th>\n",
       "    </tr>\n",
       "  </thead>\n",
       "  <tbody>\n",
       "    <tr>\n",
       "      <td>0</td>\n",
       "      <td>2003-09-28</td>\n",
       "      <td>902</td>\n",
       "      <td>477</td>\n",
       "      <td>NaN</td>\n",
       "      <td>606</td>\n",
       "      <td>NaN</td>\n",
       "      <td>929</td>\n",
       "      <td>233</td>\n",
       "      <td>223</td>\n",
       "      <td>NaN</td>\n",
       "      <td>...</td>\n",
       "      <td>1066</td>\n",
       "      <td>948</td>\n",
       "      <td>NaN</td>\n",
       "      <td>1035</td>\n",
       "      <td>NaN</td>\n",
       "      <td>668</td>\n",
       "      <td>NaN</td>\n",
       "      <td>622</td>\n",
       "      <td>452</td>\n",
       "      <td>2003-09-28</td>\n",
       "    </tr>\n",
       "    <tr>\n",
       "      <td>1</td>\n",
       "      <td>2003-10-05</td>\n",
       "      <td>952</td>\n",
       "      <td>501</td>\n",
       "      <td>NaN</td>\n",
       "      <td>663</td>\n",
       "      <td>NaN</td>\n",
       "      <td>849</td>\n",
       "      <td>251</td>\n",
       "      <td>243</td>\n",
       "      <td>NaN</td>\n",
       "      <td>...</td>\n",
       "      <td>1249</td>\n",
       "      <td>963</td>\n",
       "      <td>NaN</td>\n",
       "      <td>1135</td>\n",
       "      <td>NaN</td>\n",
       "      <td>787</td>\n",
       "      <td>NaN</td>\n",
       "      <td>626</td>\n",
       "      <td>449</td>\n",
       "      <td>2003-10-05</td>\n",
       "    </tr>\n",
       "    <tr>\n",
       "      <td>2</td>\n",
       "      <td>2003-10-12</td>\n",
       "      <td>1092</td>\n",
       "      <td>492</td>\n",
       "      <td>NaN</td>\n",
       "      <td>700</td>\n",
       "      <td>NaN</td>\n",
       "      <td>1032</td>\n",
       "      <td>283</td>\n",
       "      <td>261</td>\n",
       "      <td>NaN</td>\n",
       "      <td>...</td>\n",
       "      <td>1289</td>\n",
       "      <td>970</td>\n",
       "      <td>NaN</td>\n",
       "      <td>1170</td>\n",
       "      <td>NaN</td>\n",
       "      <td>994</td>\n",
       "      <td>NaN</td>\n",
       "      <td>661</td>\n",
       "      <td>437</td>\n",
       "      <td>2003-10-12</td>\n",
       "    </tr>\n",
       "    <tr>\n",
       "      <td>3</td>\n",
       "      <td>2003-10-19</td>\n",
       "      <td>1209</td>\n",
       "      <td>533</td>\n",
       "      <td>NaN</td>\n",
       "      <td>819</td>\n",
       "      <td>NaN</td>\n",
       "      <td>1084</td>\n",
       "      <td>310</td>\n",
       "      <td>268</td>\n",
       "      <td>NaN</td>\n",
       "      <td>...</td>\n",
       "      <td>1308</td>\n",
       "      <td>1011</td>\n",
       "      <td>NaN</td>\n",
       "      <td>1342</td>\n",
       "      <td>NaN</td>\n",
       "      <td>999</td>\n",
       "      <td>NaN</td>\n",
       "      <td>649</td>\n",
       "      <td>487</td>\n",
       "      <td>2003-10-19</td>\n",
       "    </tr>\n",
       "    <tr>\n",
       "      <td>4</td>\n",
       "      <td>2003-10-26</td>\n",
       "      <td>1249</td>\n",
       "      <td>594</td>\n",
       "      <td>NaN</td>\n",
       "      <td>959</td>\n",
       "      <td>NaN</td>\n",
       "      <td>989</td>\n",
       "      <td>344</td>\n",
       "      <td>334</td>\n",
       "      <td>NaN</td>\n",
       "      <td>...</td>\n",
       "      <td>1426</td>\n",
       "      <td>1009</td>\n",
       "      <td>NaN</td>\n",
       "      <td>1354</td>\n",
       "      <td>NaN</td>\n",
       "      <td>1297</td>\n",
       "      <td>NaN</td>\n",
       "      <td>657</td>\n",
       "      <td>499</td>\n",
       "      <td>2003-10-26</td>\n",
       "    </tr>\n",
       "  </tbody>\n",
       "</table>\n",
       "<p>5 rows × 161 columns</p>\n",
       "</div>"
      ],
      "text/plain": [
       "         Date  United States  Alabama  Alaska  Arizona  Arkansas  California  \\\n",
       "0  2003-09-28            902      477     NaN      606       NaN         929   \n",
       "1  2003-10-05            952      501     NaN      663       NaN         849   \n",
       "2  2003-10-12           1092      492     NaN      700       NaN        1032   \n",
       "3  2003-10-19           1209      533     NaN      819       NaN        1084   \n",
       "4  2003-10-26           1249      594     NaN      959       NaN         989   \n",
       "\n",
       "   Colorado  Connecticut  Delaware  ...  Arlington, VA  Norfolk, VA  \\\n",
       "0       233          223       NaN  ...           1066          948   \n",
       "1       251          243       NaN  ...           1249          963   \n",
       "2       283          261       NaN  ...           1289          970   \n",
       "3       310          268       NaN  ...           1308         1011   \n",
       "4       344          334       NaN  ...           1426         1009   \n",
       "\n",
       "   Reston, VA  Richmond, VA  Bellevue, WA  Seattle, WA  Spokane, WA  \\\n",
       "0         NaN          1035           NaN          668          NaN   \n",
       "1         NaN          1135           NaN          787          NaN   \n",
       "2         NaN          1170           NaN          994          NaN   \n",
       "3         NaN          1342           NaN          999          NaN   \n",
       "4         NaN          1354           NaN         1297          NaN   \n",
       "\n",
       "   Madison, WI  Milwaukee, WI         ds  \n",
       "0          622            452 2003-09-28  \n",
       "1          626            449 2003-10-05  \n",
       "2          661            437 2003-10-12  \n",
       "3          649            487 2003-10-19  \n",
       "4          657            499 2003-10-26  \n",
       "\n",
       "[5 rows x 161 columns]"
      ]
     },
     "execution_count": 3,
     "metadata": {},
     "output_type": "execute_result"
    }
   ],
   "source": [
    "df['ds']=pd.to_datetime(df['Date'])\n",
    "df.head()"
   ]
  },
  {
   "cell_type": "code",
   "execution_count": 4,
   "metadata": {},
   "outputs": [
    {
     "data": {
      "text/html": [
       "<div>\n",
       "<style scoped>\n",
       "    .dataframe tbody tr th:only-of-type {\n",
       "        vertical-align: middle;\n",
       "    }\n",
       "\n",
       "    .dataframe tbody tr th {\n",
       "        vertical-align: top;\n",
       "    }\n",
       "\n",
       "    .dataframe thead th {\n",
       "        text-align: right;\n",
       "    }\n",
       "</style>\n",
       "<table border=\"1\" class=\"dataframe\">\n",
       "  <thead>\n",
       "    <tr style=\"text-align: right;\">\n",
       "      <th></th>\n",
       "      <th>ds</th>\n",
       "      <th>United States</th>\n",
       "    </tr>\n",
       "  </thead>\n",
       "  <tbody>\n",
       "    <tr>\n",
       "      <td>0</td>\n",
       "      <td>2003-09-28</td>\n",
       "      <td>902</td>\n",
       "    </tr>\n",
       "    <tr>\n",
       "      <td>1</td>\n",
       "      <td>2003-10-05</td>\n",
       "      <td>952</td>\n",
       "    </tr>\n",
       "    <tr>\n",
       "      <td>2</td>\n",
       "      <td>2003-10-12</td>\n",
       "      <td>1092</td>\n",
       "    </tr>\n",
       "    <tr>\n",
       "      <td>3</td>\n",
       "      <td>2003-10-19</td>\n",
       "      <td>1209</td>\n",
       "    </tr>\n",
       "    <tr>\n",
       "      <td>4</td>\n",
       "      <td>2003-10-26</td>\n",
       "      <td>1249</td>\n",
       "    </tr>\n",
       "  </tbody>\n",
       "</table>\n",
       "</div>"
      ],
      "text/plain": [
       "          ds  United States\n",
       "0 2003-09-28            902\n",
       "1 2003-10-05            952\n",
       "2 2003-10-12           1092\n",
       "3 2003-10-19           1209\n",
       "4 2003-10-26           1249"
      ]
     },
     "execution_count": 4,
     "metadata": {},
     "output_type": "execute_result"
    }
   ],
   "source": [
    "df_flu = df[['ds', 'United States']]\n",
    "df_flu.head()"
   ]
  },
  {
   "cell_type": "code",
   "execution_count": 5,
   "metadata": {},
   "outputs": [
    {
     "data": {
      "text/html": [
       "<div>\n",
       "<style scoped>\n",
       "    .dataframe tbody tr th:only-of-type {\n",
       "        vertical-align: middle;\n",
       "    }\n",
       "\n",
       "    .dataframe tbody tr th {\n",
       "        vertical-align: top;\n",
       "    }\n",
       "\n",
       "    .dataframe thead th {\n",
       "        text-align: right;\n",
       "    }\n",
       "</style>\n",
       "<table border=\"1\" class=\"dataframe\">\n",
       "  <thead>\n",
       "    <tr style=\"text-align: right;\">\n",
       "      <th></th>\n",
       "      <th>week.code</th>\n",
       "      <th>Week</th>\n",
       "      <th>AK</th>\n",
       "      <th>AL</th>\n",
       "      <th>AR</th>\n",
       "      <th>AZ</th>\n",
       "      <th>DE</th>\n",
       "      <th>GA</th>\n",
       "      <th>ID</th>\n",
       "      <th>KS</th>\n",
       "      <th>...</th>\n",
       "      <th>SC</th>\n",
       "      <th>SD</th>\n",
       "      <th>TN</th>\n",
       "      <th>TX</th>\n",
       "      <th>UT</th>\n",
       "      <th>VA</th>\n",
       "      <th>VT</th>\n",
       "      <th>WA</th>\n",
       "      <th>WI</th>\n",
       "      <th>WV</th>\n",
       "    </tr>\n",
       "  </thead>\n",
       "  <tbody>\n",
       "    <tr>\n",
       "      <td>0</td>\n",
       "      <td>200940</td>\n",
       "      <td>10/4/2009</td>\n",
       "      <td>6.681128</td>\n",
       "      <td>11.714032</td>\n",
       "      <td>11.690647</td>\n",
       "      <td>5.412864</td>\n",
       "      <td>4.177719</td>\n",
       "      <td>5.756567</td>\n",
       "      <td>11.336176</td>\n",
       "      <td>7.996503</td>\n",
       "      <td>...</td>\n",
       "      <td>6.851755</td>\n",
       "      <td>6.481481</td>\n",
       "      <td>3.687230</td>\n",
       "      <td>13.297408</td>\n",
       "      <td>6.131683</td>\n",
       "      <td>6.088217</td>\n",
       "      <td>2.616738</td>\n",
       "      <td>5.833498</td>\n",
       "      <td>4.663368</td>\n",
       "      <td>3.880303</td>\n",
       "    </tr>\n",
       "    <tr>\n",
       "      <td>1</td>\n",
       "      <td>200941</td>\n",
       "      <td>10/11/2009</td>\n",
       "      <td>6.766595</td>\n",
       "      <td>9.333333</td>\n",
       "      <td>15.008186</td>\n",
       "      <td>6.083715</td>\n",
       "      <td>6.565015</td>\n",
       "      <td>5.051700</td>\n",
       "      <td>11.308922</td>\n",
       "      <td>10.732660</td>\n",
       "      <td>...</td>\n",
       "      <td>6.308213</td>\n",
       "      <td>10.096154</td>\n",
       "      <td>4.196797</td>\n",
       "      <td>12.804213</td>\n",
       "      <td>12.697060</td>\n",
       "      <td>8.912076</td>\n",
       "      <td>3.415271</td>\n",
       "      <td>8.497337</td>\n",
       "      <td>5.526189</td>\n",
       "      <td>6.785555</td>\n",
       "    </tr>\n",
       "    <tr>\n",
       "      <td>2</td>\n",
       "      <td>200942</td>\n",
       "      <td>10/18/2009</td>\n",
       "      <td>7.611438</td>\n",
       "      <td>7.273329</td>\n",
       "      <td>12.163600</td>\n",
       "      <td>3.839384</td>\n",
       "      <td>12.443643</td>\n",
       "      <td>5.902007</td>\n",
       "      <td>9.019844</td>\n",
       "      <td>11.286385</td>\n",
       "      <td>...</td>\n",
       "      <td>3.897699</td>\n",
       "      <td>8.770161</td>\n",
       "      <td>3.905351</td>\n",
       "      <td>11.067298</td>\n",
       "      <td>13.828930</td>\n",
       "      <td>14.540389</td>\n",
       "      <td>7.232704</td>\n",
       "      <td>8.210526</td>\n",
       "      <td>8.418070</td>\n",
       "      <td>12.495631</td>\n",
       "    </tr>\n",
       "    <tr>\n",
       "      <td>3</td>\n",
       "      <td>200943</td>\n",
       "      <td>10/25/2009</td>\n",
       "      <td>7.210031</td>\n",
       "      <td>7.836504</td>\n",
       "      <td>9.673560</td>\n",
       "      <td>3.230019</td>\n",
       "      <td>9.708042</td>\n",
       "      <td>5.642044</td>\n",
       "      <td>7.393967</td>\n",
       "      <td>8.196823</td>\n",
       "      <td>...</td>\n",
       "      <td>4.525917</td>\n",
       "      <td>5.100830</td>\n",
       "      <td>4.456052</td>\n",
       "      <td>9.377208</td>\n",
       "      <td>12.274096</td>\n",
       "      <td>14.730188</td>\n",
       "      <td>12.428198</td>\n",
       "      <td>6.835002</td>\n",
       "      <td>7.566347</td>\n",
       "      <td>14.498013</td>\n",
       "    </tr>\n",
       "    <tr>\n",
       "      <td>4</td>\n",
       "      <td>200944</td>\n",
       "      <td>11/1/2009</td>\n",
       "      <td>3.989242</td>\n",
       "      <td>7.175214</td>\n",
       "      <td>7.686567</td>\n",
       "      <td>3.267177</td>\n",
       "      <td>6.373463</td>\n",
       "      <td>5.468195</td>\n",
       "      <td>4.770992</td>\n",
       "      <td>6.575291</td>\n",
       "      <td>...</td>\n",
       "      <td>3.540097</td>\n",
       "      <td>2.837838</td>\n",
       "      <td>3.255092</td>\n",
       "      <td>6.429295</td>\n",
       "      <td>9.984384</td>\n",
       "      <td>10.112995</td>\n",
       "      <td>12.583833</td>\n",
       "      <td>5.282293</td>\n",
       "      <td>7.112512</td>\n",
       "      <td>10.748838</td>\n",
       "    </tr>\n",
       "  </tbody>\n",
       "</table>\n",
       "<p>5 rows × 39 columns</p>\n",
       "</div>"
      ],
      "text/plain": [
       "   week.code        Week        AK         AL         AR        AZ         DE  \\\n",
       "0     200940   10/4/2009  6.681128  11.714032  11.690647  5.412864   4.177719   \n",
       "1     200941  10/11/2009  6.766595   9.333333  15.008186  6.083715   6.565015   \n",
       "2     200942  10/18/2009  7.611438   7.273329  12.163600  3.839384  12.443643   \n",
       "3     200943  10/25/2009  7.210031   7.836504   9.673560  3.230019   9.708042   \n",
       "4     200944   11/1/2009  3.989242   7.175214   7.686567  3.267177   6.373463   \n",
       "\n",
       "         GA         ID         KS  ...        SC         SD        TN  \\\n",
       "0  5.756567  11.336176   7.996503  ...  6.851755   6.481481  3.687230   \n",
       "1  5.051700  11.308922  10.732660  ...  6.308213  10.096154  4.196797   \n",
       "2  5.902007   9.019844  11.286385  ...  3.897699   8.770161  3.905351   \n",
       "3  5.642044   7.393967   8.196823  ...  4.525917   5.100830  4.456052   \n",
       "4  5.468195   4.770992   6.575291  ...  3.540097   2.837838  3.255092   \n",
       "\n",
       "          TX         UT         VA         VT        WA        WI         WV  \n",
       "0  13.297408   6.131683   6.088217   2.616738  5.833498  4.663368   3.880303  \n",
       "1  12.804213  12.697060   8.912076   3.415271  8.497337  5.526189   6.785555  \n",
       "2  11.067298  13.828930  14.540389   7.232704  8.210526  8.418070  12.495631  \n",
       "3   9.377208  12.274096  14.730188  12.428198  6.835002  7.566347  14.498013  \n",
       "4   6.429295   9.984384  10.112995  12.583833  5.282293  7.112512  10.748838  \n",
       "\n",
       "[5 rows x 39 columns]"
      ]
     },
     "execution_count": 5,
     "metadata": {},
     "output_type": "execute_result"
    }
   ],
   "source": [
    "df2 = pd.read_csv('~/Desktop/States_ILI.csv')\n",
    "df2.head()"
   ]
  },
  {
   "cell_type": "code",
   "execution_count": 6,
   "metadata": {},
   "outputs": [
    {
     "data": {
      "text/html": [
       "<div>\n",
       "<style scoped>\n",
       "    .dataframe tbody tr th:only-of-type {\n",
       "        vertical-align: middle;\n",
       "    }\n",
       "\n",
       "    .dataframe tbody tr th {\n",
       "        vertical-align: top;\n",
       "    }\n",
       "\n",
       "    .dataframe thead th {\n",
       "        text-align: right;\n",
       "    }\n",
       "</style>\n",
       "<table border=\"1\" class=\"dataframe\">\n",
       "  <thead>\n",
       "    <tr style=\"text-align: right;\">\n",
       "      <th></th>\n",
       "      <th>week.code</th>\n",
       "      <th>Week</th>\n",
       "      <th>AK</th>\n",
       "      <th>AL</th>\n",
       "      <th>AR</th>\n",
       "      <th>AZ</th>\n",
       "      <th>DE</th>\n",
       "      <th>GA</th>\n",
       "      <th>ID</th>\n",
       "      <th>KS</th>\n",
       "      <th>...</th>\n",
       "      <th>SD</th>\n",
       "      <th>TN</th>\n",
       "      <th>TX</th>\n",
       "      <th>UT</th>\n",
       "      <th>VA</th>\n",
       "      <th>VT</th>\n",
       "      <th>WA</th>\n",
       "      <th>WI</th>\n",
       "      <th>WV</th>\n",
       "      <th>ds</th>\n",
       "    </tr>\n",
       "  </thead>\n",
       "  <tbody>\n",
       "    <tr>\n",
       "      <td>0</td>\n",
       "      <td>200940</td>\n",
       "      <td>10/4/2009</td>\n",
       "      <td>6.681128</td>\n",
       "      <td>11.714032</td>\n",
       "      <td>11.690647</td>\n",
       "      <td>5.412864</td>\n",
       "      <td>4.177719</td>\n",
       "      <td>5.756567</td>\n",
       "      <td>11.336176</td>\n",
       "      <td>7.996503</td>\n",
       "      <td>...</td>\n",
       "      <td>6.481481</td>\n",
       "      <td>3.687230</td>\n",
       "      <td>13.297408</td>\n",
       "      <td>6.131683</td>\n",
       "      <td>6.088217</td>\n",
       "      <td>2.616738</td>\n",
       "      <td>5.833498</td>\n",
       "      <td>4.663368</td>\n",
       "      <td>3.880303</td>\n",
       "      <td>2009-10-04</td>\n",
       "    </tr>\n",
       "    <tr>\n",
       "      <td>1</td>\n",
       "      <td>200941</td>\n",
       "      <td>10/11/2009</td>\n",
       "      <td>6.766595</td>\n",
       "      <td>9.333333</td>\n",
       "      <td>15.008186</td>\n",
       "      <td>6.083715</td>\n",
       "      <td>6.565015</td>\n",
       "      <td>5.051700</td>\n",
       "      <td>11.308922</td>\n",
       "      <td>10.732660</td>\n",
       "      <td>...</td>\n",
       "      <td>10.096154</td>\n",
       "      <td>4.196797</td>\n",
       "      <td>12.804213</td>\n",
       "      <td>12.697060</td>\n",
       "      <td>8.912076</td>\n",
       "      <td>3.415271</td>\n",
       "      <td>8.497337</td>\n",
       "      <td>5.526189</td>\n",
       "      <td>6.785555</td>\n",
       "      <td>2009-10-11</td>\n",
       "    </tr>\n",
       "    <tr>\n",
       "      <td>2</td>\n",
       "      <td>200942</td>\n",
       "      <td>10/18/2009</td>\n",
       "      <td>7.611438</td>\n",
       "      <td>7.273329</td>\n",
       "      <td>12.163600</td>\n",
       "      <td>3.839384</td>\n",
       "      <td>12.443643</td>\n",
       "      <td>5.902007</td>\n",
       "      <td>9.019844</td>\n",
       "      <td>11.286385</td>\n",
       "      <td>...</td>\n",
       "      <td>8.770161</td>\n",
       "      <td>3.905351</td>\n",
       "      <td>11.067298</td>\n",
       "      <td>13.828930</td>\n",
       "      <td>14.540389</td>\n",
       "      <td>7.232704</td>\n",
       "      <td>8.210526</td>\n",
       "      <td>8.418070</td>\n",
       "      <td>12.495631</td>\n",
       "      <td>2009-10-18</td>\n",
       "    </tr>\n",
       "    <tr>\n",
       "      <td>3</td>\n",
       "      <td>200943</td>\n",
       "      <td>10/25/2009</td>\n",
       "      <td>7.210031</td>\n",
       "      <td>7.836504</td>\n",
       "      <td>9.673560</td>\n",
       "      <td>3.230019</td>\n",
       "      <td>9.708042</td>\n",
       "      <td>5.642044</td>\n",
       "      <td>7.393967</td>\n",
       "      <td>8.196823</td>\n",
       "      <td>...</td>\n",
       "      <td>5.100830</td>\n",
       "      <td>4.456052</td>\n",
       "      <td>9.377208</td>\n",
       "      <td>12.274096</td>\n",
       "      <td>14.730188</td>\n",
       "      <td>12.428198</td>\n",
       "      <td>6.835002</td>\n",
       "      <td>7.566347</td>\n",
       "      <td>14.498013</td>\n",
       "      <td>2009-10-25</td>\n",
       "    </tr>\n",
       "    <tr>\n",
       "      <td>4</td>\n",
       "      <td>200944</td>\n",
       "      <td>11/1/2009</td>\n",
       "      <td>3.989242</td>\n",
       "      <td>7.175214</td>\n",
       "      <td>7.686567</td>\n",
       "      <td>3.267177</td>\n",
       "      <td>6.373463</td>\n",
       "      <td>5.468195</td>\n",
       "      <td>4.770992</td>\n",
       "      <td>6.575291</td>\n",
       "      <td>...</td>\n",
       "      <td>2.837838</td>\n",
       "      <td>3.255092</td>\n",
       "      <td>6.429295</td>\n",
       "      <td>9.984384</td>\n",
       "      <td>10.112995</td>\n",
       "      <td>12.583833</td>\n",
       "      <td>5.282293</td>\n",
       "      <td>7.112512</td>\n",
       "      <td>10.748838</td>\n",
       "      <td>2009-11-01</td>\n",
       "    </tr>\n",
       "  </tbody>\n",
       "</table>\n",
       "<p>5 rows × 40 columns</p>\n",
       "</div>"
      ],
      "text/plain": [
       "   week.code        Week        AK         AL         AR        AZ         DE  \\\n",
       "0     200940   10/4/2009  6.681128  11.714032  11.690647  5.412864   4.177719   \n",
       "1     200941  10/11/2009  6.766595   9.333333  15.008186  6.083715   6.565015   \n",
       "2     200942  10/18/2009  7.611438   7.273329  12.163600  3.839384  12.443643   \n",
       "3     200943  10/25/2009  7.210031   7.836504   9.673560  3.230019   9.708042   \n",
       "4     200944   11/1/2009  3.989242   7.175214   7.686567  3.267177   6.373463   \n",
       "\n",
       "         GA         ID         KS  ...         SD        TN         TX  \\\n",
       "0  5.756567  11.336176   7.996503  ...   6.481481  3.687230  13.297408   \n",
       "1  5.051700  11.308922  10.732660  ...  10.096154  4.196797  12.804213   \n",
       "2  5.902007   9.019844  11.286385  ...   8.770161  3.905351  11.067298   \n",
       "3  5.642044   7.393967   8.196823  ...   5.100830  4.456052   9.377208   \n",
       "4  5.468195   4.770992   6.575291  ...   2.837838  3.255092   6.429295   \n",
       "\n",
       "          UT         VA         VT        WA        WI         WV         ds  \n",
       "0   6.131683   6.088217   2.616738  5.833498  4.663368   3.880303 2009-10-04  \n",
       "1  12.697060   8.912076   3.415271  8.497337  5.526189   6.785555 2009-10-11  \n",
       "2  13.828930  14.540389   7.232704  8.210526  8.418070  12.495631 2009-10-18  \n",
       "3  12.274096  14.730188  12.428198  6.835002  7.566347  14.498013 2009-10-25  \n",
       "4   9.984384  10.112995  12.583833  5.282293  7.112512  10.748838 2009-11-01  \n",
       "\n",
       "[5 rows x 40 columns]"
      ]
     },
     "execution_count": 6,
     "metadata": {},
     "output_type": "execute_result"
    }
   ],
   "source": [
    "df2['ds']=pd.to_datetime(df2['Week'])\n",
    "df2.head()"
   ]
  },
  {
   "cell_type": "code",
   "execution_count": 7,
   "metadata": {},
   "outputs": [
    {
     "data": {
      "text/html": [
       "<div>\n",
       "<style scoped>\n",
       "    .dataframe tbody tr th:only-of-type {\n",
       "        vertical-align: middle;\n",
       "    }\n",
       "\n",
       "    .dataframe tbody tr th {\n",
       "        vertical-align: top;\n",
       "    }\n",
       "\n",
       "    .dataframe thead th {\n",
       "        text-align: right;\n",
       "    }\n",
       "</style>\n",
       "<table border=\"1\" class=\"dataframe\">\n",
       "  <thead>\n",
       "    <tr style=\"text-align: right;\">\n",
       "      <th></th>\n",
       "      <th>week.code</th>\n",
       "      <th>Week</th>\n",
       "      <th>AK</th>\n",
       "      <th>AL</th>\n",
       "      <th>AR</th>\n",
       "      <th>AZ</th>\n",
       "      <th>DE</th>\n",
       "      <th>GA</th>\n",
       "      <th>ID</th>\n",
       "      <th>KS</th>\n",
       "      <th>...</th>\n",
       "      <th>TN</th>\n",
       "      <th>TX</th>\n",
       "      <th>UT</th>\n",
       "      <th>VA</th>\n",
       "      <th>VT</th>\n",
       "      <th>WA</th>\n",
       "      <th>WI</th>\n",
       "      <th>WV</th>\n",
       "      <th>ds</th>\n",
       "      <th>US</th>\n",
       "    </tr>\n",
       "  </thead>\n",
       "  <tbody>\n",
       "    <tr>\n",
       "      <td>0</td>\n",
       "      <td>200940</td>\n",
       "      <td>10/4/2009</td>\n",
       "      <td>6.681128</td>\n",
       "      <td>11.714032</td>\n",
       "      <td>11.690647</td>\n",
       "      <td>5.412864</td>\n",
       "      <td>4.177719</td>\n",
       "      <td>5.756567</td>\n",
       "      <td>11.336176</td>\n",
       "      <td>7.996503</td>\n",
       "      <td>...</td>\n",
       "      <td>3.687230</td>\n",
       "      <td>13.297408</td>\n",
       "      <td>6.131683</td>\n",
       "      <td>6.088217</td>\n",
       "      <td>2.616738</td>\n",
       "      <td>5.833498</td>\n",
       "      <td>4.663368</td>\n",
       "      <td>3.880303</td>\n",
       "      <td>2009-10-04</td>\n",
       "      <td>221.572984</td>\n",
       "    </tr>\n",
       "    <tr>\n",
       "      <td>1</td>\n",
       "      <td>200941</td>\n",
       "      <td>10/11/2009</td>\n",
       "      <td>6.766595</td>\n",
       "      <td>9.333333</td>\n",
       "      <td>15.008186</td>\n",
       "      <td>6.083715</td>\n",
       "      <td>6.565015</td>\n",
       "      <td>5.051700</td>\n",
       "      <td>11.308922</td>\n",
       "      <td>10.732660</td>\n",
       "      <td>...</td>\n",
       "      <td>4.196797</td>\n",
       "      <td>12.804213</td>\n",
       "      <td>12.697060</td>\n",
       "      <td>8.912076</td>\n",
       "      <td>3.415271</td>\n",
       "      <td>8.497337</td>\n",
       "      <td>5.526189</td>\n",
       "      <td>6.785555</td>\n",
       "      <td>2009-10-11</td>\n",
       "      <td>271.136826</td>\n",
       "    </tr>\n",
       "    <tr>\n",
       "      <td>2</td>\n",
       "      <td>200942</td>\n",
       "      <td>10/18/2009</td>\n",
       "      <td>7.611438</td>\n",
       "      <td>7.273329</td>\n",
       "      <td>12.163600</td>\n",
       "      <td>3.839384</td>\n",
       "      <td>12.443643</td>\n",
       "      <td>5.902007</td>\n",
       "      <td>9.019844</td>\n",
       "      <td>11.286385</td>\n",
       "      <td>...</td>\n",
       "      <td>3.905351</td>\n",
       "      <td>11.067298</td>\n",
       "      <td>13.828930</td>\n",
       "      <td>14.540389</td>\n",
       "      <td>7.232704</td>\n",
       "      <td>8.210526</td>\n",
       "      <td>8.418070</td>\n",
       "      <td>12.495631</td>\n",
       "      <td>2009-10-18</td>\n",
       "      <td>294.532493</td>\n",
       "    </tr>\n",
       "    <tr>\n",
       "      <td>3</td>\n",
       "      <td>200943</td>\n",
       "      <td>10/25/2009</td>\n",
       "      <td>7.210031</td>\n",
       "      <td>7.836504</td>\n",
       "      <td>9.673560</td>\n",
       "      <td>3.230019</td>\n",
       "      <td>9.708042</td>\n",
       "      <td>5.642044</td>\n",
       "      <td>7.393967</td>\n",
       "      <td>8.196823</td>\n",
       "      <td>...</td>\n",
       "      <td>4.456052</td>\n",
       "      <td>9.377208</td>\n",
       "      <td>12.274096</td>\n",
       "      <td>14.730188</td>\n",
       "      <td>12.428198</td>\n",
       "      <td>6.835002</td>\n",
       "      <td>7.566347</td>\n",
       "      <td>14.498013</td>\n",
       "      <td>2009-10-25</td>\n",
       "      <td>282.747261</td>\n",
       "    </tr>\n",
       "    <tr>\n",
       "      <td>4</td>\n",
       "      <td>200944</td>\n",
       "      <td>11/1/2009</td>\n",
       "      <td>3.989242</td>\n",
       "      <td>7.175214</td>\n",
       "      <td>7.686567</td>\n",
       "      <td>3.267177</td>\n",
       "      <td>6.373463</td>\n",
       "      <td>5.468195</td>\n",
       "      <td>4.770992</td>\n",
       "      <td>6.575291</td>\n",
       "      <td>...</td>\n",
       "      <td>3.255092</td>\n",
       "      <td>6.429295</td>\n",
       "      <td>9.984384</td>\n",
       "      <td>10.112995</td>\n",
       "      <td>12.583833</td>\n",
       "      <td>5.282293</td>\n",
       "      <td>7.112512</td>\n",
       "      <td>10.748838</td>\n",
       "      <td>2009-11-01</td>\n",
       "      <td>242.148545</td>\n",
       "    </tr>\n",
       "  </tbody>\n",
       "</table>\n",
       "<p>5 rows × 41 columns</p>\n",
       "</div>"
      ],
      "text/plain": [
       "   week.code        Week        AK         AL         AR        AZ         DE  \\\n",
       "0     200940   10/4/2009  6.681128  11.714032  11.690647  5.412864   4.177719   \n",
       "1     200941  10/11/2009  6.766595   9.333333  15.008186  6.083715   6.565015   \n",
       "2     200942  10/18/2009  7.611438   7.273329  12.163600  3.839384  12.443643   \n",
       "3     200943  10/25/2009  7.210031   7.836504   9.673560  3.230019   9.708042   \n",
       "4     200944   11/1/2009  3.989242   7.175214   7.686567  3.267177   6.373463   \n",
       "\n",
       "         GA         ID         KS  ...        TN         TX         UT  \\\n",
       "0  5.756567  11.336176   7.996503  ...  3.687230  13.297408   6.131683   \n",
       "1  5.051700  11.308922  10.732660  ...  4.196797  12.804213  12.697060   \n",
       "2  5.902007   9.019844  11.286385  ...  3.905351  11.067298  13.828930   \n",
       "3  5.642044   7.393967   8.196823  ...  4.456052   9.377208  12.274096   \n",
       "4  5.468195   4.770992   6.575291  ...  3.255092   6.429295   9.984384   \n",
       "\n",
       "          VA         VT        WA        WI         WV         ds          US  \n",
       "0   6.088217   2.616738  5.833498  4.663368   3.880303 2009-10-04  221.572984  \n",
       "1   8.912076   3.415271  8.497337  5.526189   6.785555 2009-10-11  271.136826  \n",
       "2  14.540389   7.232704  8.210526  8.418070  12.495631 2009-10-18  294.532493  \n",
       "3  14.730188  12.428198  6.835002  7.566347  14.498013 2009-10-25  282.747261  \n",
       "4  10.112995  12.583833  5.282293  7.112512  10.748838 2009-11-01  242.148545  \n",
       "\n",
       "[5 rows x 41 columns]"
      ]
     },
     "execution_count": 7,
     "metadata": {},
     "output_type": "execute_result"
    }
   ],
   "source": [
    "df2['US'] = df2['AK']+df2['AL']+df2['AR']+df2['AZ']+df2['DE']+df2['GA']+df2['ID']+df2['KS']+df2['KY']+df2['LA']+df2['MA']+df2['MD']+df2['ME']+df2['MI']+df2['MN']+df2['NC']+df2['ND']+df2['NE']+df2['NH']+df2['NJ']+df2['NM']+df2['NV']+df2['NY']+df2['OH']+df2['OR']+df2['PA']+df2['RI']+df2['SC']+df2['SD']+df2['TN']+df2['TX']+df2['UT']+df2['VA']+df2['VT']+df2['WA']+df2['WI']+df2['WV']                                                                                                                   \n",
    "df2.head()"
   ]
  },
  {
   "cell_type": "code",
   "execution_count": 8,
   "metadata": {},
   "outputs": [
    {
     "data": {
      "text/html": [
       "<div>\n",
       "<style scoped>\n",
       "    .dataframe tbody tr th:only-of-type {\n",
       "        vertical-align: middle;\n",
       "    }\n",
       "\n",
       "    .dataframe tbody tr th {\n",
       "        vertical-align: top;\n",
       "    }\n",
       "\n",
       "    .dataframe thead th {\n",
       "        text-align: right;\n",
       "    }\n",
       "</style>\n",
       "<table border=\"1\" class=\"dataframe\">\n",
       "  <thead>\n",
       "    <tr style=\"text-align: right;\">\n",
       "      <th></th>\n",
       "      <th>ds</th>\n",
       "      <th>US</th>\n",
       "    </tr>\n",
       "  </thead>\n",
       "  <tbody>\n",
       "    <tr>\n",
       "      <td>0</td>\n",
       "      <td>2009-10-04</td>\n",
       "      <td>221.572984</td>\n",
       "    </tr>\n",
       "    <tr>\n",
       "      <td>1</td>\n",
       "      <td>2009-10-11</td>\n",
       "      <td>271.136826</td>\n",
       "    </tr>\n",
       "    <tr>\n",
       "      <td>2</td>\n",
       "      <td>2009-10-18</td>\n",
       "      <td>294.532493</td>\n",
       "    </tr>\n",
       "    <tr>\n",
       "      <td>3</td>\n",
       "      <td>2009-10-25</td>\n",
       "      <td>282.747261</td>\n",
       "    </tr>\n",
       "    <tr>\n",
       "      <td>4</td>\n",
       "      <td>2009-11-01</td>\n",
       "      <td>242.148545</td>\n",
       "    </tr>\n",
       "  </tbody>\n",
       "</table>\n",
       "</div>"
      ],
      "text/plain": [
       "          ds          US\n",
       "0 2009-10-04  221.572984\n",
       "1 2009-10-11  271.136826\n",
       "2 2009-10-18  294.532493\n",
       "3 2009-10-25  282.747261\n",
       "4 2009-11-01  242.148545"
      ]
     },
     "execution_count": 8,
     "metadata": {},
     "output_type": "execute_result"
    }
   ],
   "source": [
    "df_ILI = df2[['ds', 'US']]\n",
    "df_ILI.head()"
   ]
  },
  {
   "cell_type": "code",
   "execution_count": 9,
   "metadata": {},
   "outputs": [
    {
     "data": {
      "text/html": [
       "<div>\n",
       "<style scoped>\n",
       "    .dataframe tbody tr th:only-of-type {\n",
       "        vertical-align: middle;\n",
       "    }\n",
       "\n",
       "    .dataframe tbody tr th {\n",
       "        vertical-align: top;\n",
       "    }\n",
       "\n",
       "    .dataframe thead th {\n",
       "        text-align: right;\n",
       "    }\n",
       "</style>\n",
       "<table border=\"1\" class=\"dataframe\">\n",
       "  <thead>\n",
       "    <tr style=\"text-align: right;\">\n",
       "      <th></th>\n",
       "      <th>ds</th>\n",
       "      <th>United States</th>\n",
       "      <th>US</th>\n",
       "    </tr>\n",
       "  </thead>\n",
       "  <tbody>\n",
       "    <tr>\n",
       "      <td>0</td>\n",
       "      <td>2009-10-04</td>\n",
       "      <td>5424</td>\n",
       "      <td>221.572984</td>\n",
       "    </tr>\n",
       "    <tr>\n",
       "      <td>1</td>\n",
       "      <td>2009-10-11</td>\n",
       "      <td>6037</td>\n",
       "      <td>271.136826</td>\n",
       "    </tr>\n",
       "    <tr>\n",
       "      <td>2</td>\n",
       "      <td>2009-10-18</td>\n",
       "      <td>7112</td>\n",
       "      <td>294.532493</td>\n",
       "    </tr>\n",
       "    <tr>\n",
       "      <td>3</td>\n",
       "      <td>2009-10-25</td>\n",
       "      <td>6533</td>\n",
       "      <td>282.747261</td>\n",
       "    </tr>\n",
       "    <tr>\n",
       "      <td>4</td>\n",
       "      <td>2009-11-01</td>\n",
       "      <td>5722</td>\n",
       "      <td>242.148545</td>\n",
       "    </tr>\n",
       "  </tbody>\n",
       "</table>\n",
       "</div>"
      ],
      "text/plain": [
       "          ds  United States          US\n",
       "0 2009-10-04           5424  221.572984\n",
       "1 2009-10-11           6037  271.136826\n",
       "2 2009-10-18           7112  294.532493\n",
       "3 2009-10-25           6533  282.747261\n",
       "4 2009-11-01           5722  242.148545"
      ]
     },
     "execution_count": 9,
     "metadata": {},
     "output_type": "execute_result"
    }
   ],
   "source": [
    "df_sum=pd.merge(df_flu,df_ILI,on='ds',how='inner')\n",
    "df_sum.head()"
   ]
  },
  {
   "cell_type": "code",
   "execution_count": 10,
   "metadata": {},
   "outputs": [],
   "source": [
    "def univariate_data(dataset, start_index, end_index, history_size, target_size):\n",
    "    data = []\n",
    "    labels = []\n",
    "\n",
    "    start_index = start_index + history_size\n",
    "    if end_index is None:\n",
    "        end_index = len(dataset) - target_size\n",
    "\n",
    "    for i in range(start_index, end_index):\n",
    "        indices = range(i-history_size, i)\n",
    "        # Reshape data from (history_size,) to (history_size, 1)\n",
    "        data.append(np.reshape(dataset[indices], (history_size, 1)))\n",
    "        labels.append(dataset[i+target_size])\n",
    "    \n",
    "    return np.array(data), np.array(labels)"
   ]
  },
  {
   "cell_type": "code",
   "execution_count": 11,
   "metadata": {},
   "outputs": [],
   "source": [
    "TRAIN_SPLIT = 300\n",
    "tf.random.set_seed(13)"
   ]
  },
  {
   "cell_type": "code",
   "execution_count": 12,
   "metadata": {},
   "outputs": [
    {
     "data": {
      "text/html": [
       "<div>\n",
       "<style scoped>\n",
       "    .dataframe tbody tr th:only-of-type {\n",
       "        vertical-align: middle;\n",
       "    }\n",
       "\n",
       "    .dataframe tbody tr th {\n",
       "        vertical-align: top;\n",
       "    }\n",
       "\n",
       "    .dataframe thead th {\n",
       "        text-align: right;\n",
       "    }\n",
       "</style>\n",
       "<table border=\"1\" class=\"dataframe\">\n",
       "  <thead>\n",
       "    <tr style=\"text-align: right;\">\n",
       "      <th></th>\n",
       "      <th>ds</th>\n",
       "      <th>US</th>\n",
       "    </tr>\n",
       "  </thead>\n",
       "  <tbody>\n",
       "    <tr>\n",
       "      <td>0</td>\n",
       "      <td>2009-10-04</td>\n",
       "      <td>221.572984</td>\n",
       "    </tr>\n",
       "    <tr>\n",
       "      <td>1</td>\n",
       "      <td>2009-10-11</td>\n",
       "      <td>271.136826</td>\n",
       "    </tr>\n",
       "    <tr>\n",
       "      <td>2</td>\n",
       "      <td>2009-10-18</td>\n",
       "      <td>294.532493</td>\n",
       "    </tr>\n",
       "    <tr>\n",
       "      <td>3</td>\n",
       "      <td>2009-10-25</td>\n",
       "      <td>282.747261</td>\n",
       "    </tr>\n",
       "    <tr>\n",
       "      <td>4</td>\n",
       "      <td>2009-11-01</td>\n",
       "      <td>242.148545</td>\n",
       "    </tr>\n",
       "    <tr>\n",
       "      <td>...</td>\n",
       "      <td>...</td>\n",
       "      <td>...</td>\n",
       "    </tr>\n",
       "    <tr>\n",
       "      <td>393</td>\n",
       "      <td>2017-04-16</td>\n",
       "      <td>NaN</td>\n",
       "    </tr>\n",
       "    <tr>\n",
       "      <td>394</td>\n",
       "      <td>2017-04-23</td>\n",
       "      <td>NaN</td>\n",
       "    </tr>\n",
       "    <tr>\n",
       "      <td>395</td>\n",
       "      <td>2017-04-30</td>\n",
       "      <td>NaN</td>\n",
       "    </tr>\n",
       "    <tr>\n",
       "      <td>396</td>\n",
       "      <td>2017-05-07</td>\n",
       "      <td>NaN</td>\n",
       "    </tr>\n",
       "    <tr>\n",
       "      <td>397</td>\n",
       "      <td>2017-05-14</td>\n",
       "      <td>NaN</td>\n",
       "    </tr>\n",
       "  </tbody>\n",
       "</table>\n",
       "<p>398 rows × 2 columns</p>\n",
       "</div>"
      ],
      "text/plain": [
       "            ds          US\n",
       "0   2009-10-04  221.572984\n",
       "1   2009-10-11  271.136826\n",
       "2   2009-10-18  294.532493\n",
       "3   2009-10-25  282.747261\n",
       "4   2009-11-01  242.148545\n",
       "..         ...         ...\n",
       "393 2017-04-16         NaN\n",
       "394 2017-04-23         NaN\n",
       "395 2017-04-30         NaN\n",
       "396 2017-05-07         NaN\n",
       "397 2017-05-14         NaN\n",
       "\n",
       "[398 rows x 2 columns]"
      ]
     },
     "execution_count": 12,
     "metadata": {},
     "output_type": "execute_result"
    }
   ],
   "source": [
    "df_ILI"
   ]
  },
  {
   "cell_type": "code",
   "execution_count": 13,
   "metadata": {},
   "outputs": [
    {
     "name": "stderr",
     "output_type": "stream",
     "text": [
      "/opt/anaconda3/lib/python3.7/site-packages/ipykernel_launcher.py:1: SettingWithCopyWarning: \n",
      "A value is trying to be set on a copy of a slice from a DataFrame\n",
      "\n",
      "See the caveats in the documentation: http://pandas.pydata.org/pandas-docs/stable/user_guide/indexing.html#returning-a-view-versus-a-copy\n",
      "  \"\"\"Entry point for launching an IPython kernel.\n"
     ]
    }
   ],
   "source": [
    "df_ILI.dropna(inplace=True)"
   ]
  },
  {
   "cell_type": "code",
   "execution_count": 14,
   "metadata": {},
   "outputs": [
    {
     "data": {
      "text/plain": [
       "ds\n",
       "2009-10-04    221.572984\n",
       "2009-10-11    271.136826\n",
       "2009-10-18    294.532493\n",
       "2009-10-25    282.747261\n",
       "2009-11-01    242.148545\n",
       "Name: US, dtype: float64"
      ]
     },
     "execution_count": 14,
     "metadata": {},
     "output_type": "execute_result"
    }
   ],
   "source": [
    "uni_data = df_ILI['US']\n",
    "uni_data.index = df_ILI['ds']\n",
    "uni_data.head()"
   ]
  },
  {
   "cell_type": "code",
   "execution_count": 15,
   "metadata": {},
   "outputs": [
    {
     "data": {
      "text/plain": [
       "array([<matplotlib.axes._subplots.AxesSubplot object at 0x10f18fe10>],\n",
       "      dtype=object)"
      ]
     },
     "execution_count": 15,
     "metadata": {},
     "output_type": "execute_result"
    },
    {
     "data": {
      "image/png": "[encoded data removed]",
      "text/plain": [
       "<Figure size 432x288 with 1 Axes>"
      ]
     },
     "metadata": {
      "needs_background": "light"
     },
     "output_type": "display_data"
    }
   ],
   "source": [
    "uni_data.plot(subplots=True)"
   ]
  },
  {
   "cell_type": "code",
   "execution_count": 16,
   "metadata": {},
   "outputs": [],
   "source": [
    "uni_data = uni_data.values"
   ]
  },
  {
   "cell_type": "code",
   "execution_count": 17,
   "metadata": {},
   "outputs": [
    {
     "data": {
      "text/plain": [
       "array([221.57298442, 271.13682639, 294.53249347, 282.74726071,\n",
       "       242.14854529, 181.72741725, 135.68653219, 110.23688418,\n",
       "        81.81270977,  78.15605072,  68.04267058,  74.15779029,\n",
       "        77.25439305,  56.34961901,  52.3015506 ,  57.86829841,\n",
       "        59.26279002,  68.2113005 ,  63.16223778,  66.92098639,\n",
       "        61.09530385,  59.25656572,  55.84223455,  53.6213886 ,\n",
       "        47.99311374,  45.63036161,  41.18671257,  34.99988489,\n",
       "        33.25054408,  35.58321361,  32.37188856,  36.83158954,\n",
       "        30.82983889,  28.35201725,  31.19211139,  23.60670257,\n",
       "        23.30936856,  23.40345626,  21.85243363,  23.96452852,\n",
       "        21.18534802,  21.42177456,  25.25117482,  20.73600989,\n",
       "        21.87102899,  23.62070947,  23.79763421,  27.94018442,\n",
       "        30.87780492,  28.35279929,  29.78117093,  32.24352664,\n",
       "        34.2972455 ,  38.55073689,  37.7090418 ,  39.17778481,\n",
       "        40.85815612,  44.3646341 ,  49.79616992,  55.0931783 ,\n",
       "        51.4519918 ,  54.85961055,  67.55913899,  83.48982619,\n",
       "        90.46195404,  74.62931345,  90.06239051, 108.99844691,\n",
       "       129.33031573, 150.63078586, 146.264099  , 158.02708229,\n",
       "       143.70020287, 123.75396553, 105.61198191,  85.88701794,\n",
       "        69.27290031,  58.37157312,  49.86048184,  43.74318812,\n",
       "        41.0724308 ,  34.43636965,  33.36171542,  30.52693705,\n",
       "        28.77088213,  28.46409643,  28.83027736,  25.0453866 ,\n",
       "        24.88189192,  22.94507319,  19.91895346,  20.23617422,\n",
       "        15.98436051,  15.57744504,  16.82634564,  14.54821456,\n",
       "        16.77468908,  18.22201889,  19.30748663,  23.01267543,\n",
       "        26.7849381 ,  30.76183072,  31.10809254,  32.62244873,\n",
       "        33.67575628,  34.4572143 ,  34.17755447,  38.35630991,\n",
       "        42.58927524,  43.2379678 ,  40.05266871,  46.59153592,\n",
       "        43.80628313,  41.80846216,  47.5443871 ,  51.73051252,\n",
       "        60.92888184,  49.41975024,  46.33074168,  50.99903475,\n",
       "        52.89194013,  57.04296353,  59.45539955,  64.03573459,\n",
       "        62.40306433,  67.22556   ,  66.35820694,  75.1252853 ,\n",
       "        63.56834479,  52.46451343,  51.27319779,  47.15172263,\n",
       "        44.53643309,  39.04439944,  42.32171658,  41.1225512 ,\n",
       "        36.5994624 ,  32.93036089,  31.58459861,  28.57596027,\n",
       "        29.27213129,  27.78919038,  28.04588681,  29.20889315,\n",
       "        27.04587152,  26.08032465,  25.72456957,  28.71042742,\n",
       "        28.21314237,  26.08977528,  31.35245298,  34.35952713,\n",
       "        37.00953704,  37.65968905,  35.55331905,  37.86075283,\n",
       "        34.30054503,  36.03366588,  36.57804216,  36.67051289,\n",
       "        39.78441995,  43.55205901,  48.68168936,  65.28330169,\n",
       "        63.40194947,  86.67970971, 109.99788304, 140.91045217,\n",
       "       207.15872381, 163.59761548, 158.17005156, 155.20026665,\n",
       "       142.47414699, 123.84176398, 106.32142291, 100.89394866,\n",
       "        84.86752124,  79.19950368,  78.47970684,  73.91742083,\n",
       "        60.60765392,  59.16148922,  50.35089974,  45.00763698,\n",
       "        41.12636578,  36.01065014,  34.39464329,  31.40570796,\n",
       "        30.38847381,  29.80205401,  30.17115161,  24.62554434,\n",
       "        24.2401607 ,  23.62595308,  21.80799264,  22.35302138,\n",
       "        17.73226781,  19.22687481,  22.0064717 ,  19.29219778,\n",
       "        23.10391994,  21.25300327,  20.7713801 ,  22.45440567,\n",
       "        25.45479948,  28.22234612,  29.17820601,  34.32534724,\n",
       "        28.43369383,  32.22573597,  32.75809358,  36.63533827,\n",
       "        38.17863388,  40.0016137 ,  41.45454   ,  44.89792742,\n",
       "        55.91631563,  59.63468132,  63.81392636,  88.58328284,\n",
       "       146.03822331, 140.22059555, 119.51201535, 113.48453799,\n",
       "       112.2144674 ,  99.70236147,  89.37133949,  77.52597226,\n",
       "        66.43300091,  58.56862899,  58.88164392,  50.83312359,\n",
       "        50.22016087,  47.52783047,  49.69799027,  48.92351161,\n",
       "        43.67037226,  40.80582089,  35.58510388,  37.39446551,\n",
       "        36.95103956,  35.27625208,  29.01570749,  28.68449971,\n",
       "        24.75194968,  23.56578712,  22.24290888,  22.76279127,\n",
       "        19.58761378,  21.27000788,  18.69359189,  19.7498938 ,\n",
       "        19.61596159,  20.61774803,  20.17479728,  21.04240265,\n",
       "        25.93989066,  28.94447898,  32.5114307 ,  30.00011976,\n",
       "        28.37088312,  33.25501174,  34.52012896,  36.50081917,\n",
       "        38.07912781,  43.80623782,  45.77079172,  55.23297936,\n",
       "        67.20269964,  70.19774257, 102.96220856, 154.28373186,\n",
       "       207.10416393, 179.65810189, 135.67886312, 143.23918988,\n",
       "       154.74184906, 137.54727528, 119.09455026, 102.71276606,\n",
       "        91.59253073,  76.87963788,  75.35993397,  68.31769072,\n",
       "        62.48732086,  59.31632162,  55.46117345,  48.28699921,\n",
       "        44.37665083,  39.04808657,  39.65070478,  34.8579809 ,\n",
       "        33.24351773,  32.03338252,  30.57181087,  27.02859894,\n",
       "        25.0536424 ,  22.09677302,  22.9522555 ,  21.233542  ,\n",
       "        22.27184365,  21.22237845,  18.86589758,  19.31051211,\n",
       "        20.62140275,  20.83379113,  21.70168907,  21.95016508,\n",
       "        23.5884627 ,  26.96208539,  27.5582497 ,  28.59145608,\n",
       "        29.9773151 ,  33.99685407,  34.16244952,  37.89538308,\n",
       "        39.10959991,  39.95536936,  43.78482597,  43.16755475,\n",
       "        49.54595902,  48.27766527,  47.03613509,  50.85901696,\n",
       "        60.34444111,  59.0477775 ,  48.80625503,  52.79266946,\n",
       "        57.30376639,  59.18196233,  62.98070182,  76.69460238,\n",
       "        92.27129279, 105.62166804, 116.60704618, 117.99989931,\n",
       "       107.22992443,  95.3798379 ,  92.28258645,  73.60333157,\n",
       "        70.61504857,  64.05875799,  55.1979465 ,  46.47411615,\n",
       "        45.54047949])"
      ]
     },
     "execution_count": 17,
     "metadata": {},
     "output_type": "execute_result"
    }
   ],
   "source": [
    "uni_data"
   ]
  },
  {
   "cell_type": "code",
   "execution_count": 18,
   "metadata": {},
   "outputs": [],
   "source": [
    "uni_train_mean = uni_data[:TRAIN_SPLIT].mean()\n",
    "uni_train_std = uni_data[:TRAIN_SPLIT].std()"
   ]
  },
  {
   "cell_type": "code",
   "execution_count": 19,
   "metadata": {},
   "outputs": [],
   "source": [
    "uni_data = (uni_data-uni_train_mean)/uni_train_std"
   ]
  },
  {
   "cell_type": "code",
   "execution_count": 20,
   "metadata": {},
   "outputs": [],
   "source": [
    "univariate_past_history = 20\n",
    "univariate_future_target = 0"
   ]
  },
  {
   "cell_type": "code",
   "execution_count": 21,
   "metadata": {},
   "outputs": [],
   "source": [
    "x_train_uni, y_train_uni = univariate_data(uni_data, 0, TRAIN_SPLIT,\n",
    "                                           univariate_past_history,\n",
    "                                           univariate_future_target)\n",
    "x_val_uni, y_val_uni = univariate_data(uni_data, TRAIN_SPLIT, None,\n",
    "                                       univariate_past_history,\n",
    "                                       univariate_future_target)"
   ]
  },
  {
   "cell_type": "code",
   "execution_count": 22,
   "metadata": {},
   "outputs": [
    {
     "name": "stdout",
     "output_type": "stream",
     "text": [
      "Single window of past history\n",
      "[[ 3.60097154]\n",
      " [ 4.68428284]\n",
      " [ 5.19563929]\n",
      " [ 4.93805079]\n",
      " [ 4.05068925]\n",
      " [ 2.73007148]\n",
      " [ 1.72376105]\n",
      " [ 1.16751097]\n",
      " [ 0.546247  ]\n",
      " [ 0.46632381]\n",
      " [ 0.24527681]\n",
      " [ 0.37893429]\n",
      " [ 0.44661638]\n",
      " [-0.0102969 ]\n",
      " [-0.09877508]\n",
      " [ 0.0228967 ]\n",
      " [ 0.05337595]\n",
      " [ 0.24896253]\n",
      " [ 0.13860574]\n",
      " [ 0.22076028]]\n",
      "\n",
      " Target temperature to predict\n",
      "0.09342899496993214\n"
     ]
    }
   ],
   "source": [
    "print ('Single window of past history')\n",
    "print (x_train_uni[0])\n",
    "print ('\\n Target temperature to predict')\n",
    "print (y_train_uni[0])"
   ]
  },
  {
   "cell_type": "code",
   "execution_count": 23,
   "metadata": {},
   "outputs": [],
   "source": [
    "def create_time_steps(length):\n",
    "    return list(range(-length, 0))"
   ]
  },
  {
   "cell_type": "code",
   "execution_count": 24,
   "metadata": {},
   "outputs": [],
   "source": [
    "def show_plot(plot_data, delta, title):\n",
    "    labels = ['History', 'True Future', 'Model Prediction']\n",
    "    marker = ['.-', 'rx', 'go']\n",
    "    time_steps = create_time_steps(plot_data[0].shape[0])\n",
    "    if delta:\n",
    "        future = delta\n",
    "    else:\n",
    "        future = 0\n",
    "\n",
    "    plt.title(title)\n",
    "    for i, x in enumerate(plot_data):\n",
    "        if i:\n",
    "              plt.plot(future, plot_data[i], marker[i], markersize=10,\n",
    "               label=labels[i])\n",
    "        else:\n",
    "              plt.plot(time_steps, plot_data[i].flatten(), marker[i], label=labels[i])\n",
    "    \n",
    "    plt.legend()\n",
    "    plt.xlim([time_steps[0], (future+5)*2])\n",
    "    plt.xlabel('Time-Step')\n",
    "    \n",
    "    return plt"
   ]
  },
  {
   "cell_type": "code",
   "execution_count": 25,
   "metadata": {},
   "outputs": [
    {
     "data": {
      "text/plain": [
       "<module 'matplotlib.pyplot' from '/opt/anaconda3/lib/python3.7/site-packages/matplotlib/pyplot.py'>"
      ]
     },
     "execution_count": 25,
     "metadata": {},
     "output_type": "execute_result"
    },
    {
     "data": {
      "image/png": "[encoded data removed]",
      "text/plain": [
       "<Figure size 432x288 with 1 Axes>"
      ]
     },
     "metadata": {
      "needs_background": "light"
     },
     "output_type": "display_data"
    }
   ],
   "source": [
    "show_plot([x_train_uni[0], y_train_uni[0]], 0, 'Sample Example')"
   ]
  },
  {
   "cell_type": "code",
   "execution_count": 26,
   "metadata": {},
   "outputs": [],
   "source": [
    "def baseline(history):\n",
    "    return np.mean(history)"
   ]
  },
  {
   "cell_type": "code",
   "execution_count": 27,
   "metadata": {},
   "outputs": [
    {
     "data": {
      "text/plain": [
       "<module 'matplotlib.pyplot' from '/opt/anaconda3/lib/python3.7/site-packages/matplotlib/pyplot.py'>"
      ]
     },
     "execution_count": 27,
     "metadata": {},
     "output_type": "execute_result"
    },
    {
     "data": {
      "image/png": "[encoded data removed]",
      "text/plain": [
       "<Figure size 432x288 with 1 Axes>"
      ]
     },
     "metadata": {
      "needs_background": "light"
     },
     "output_type": "display_data"
    }
   ],
   "source": [
    "show_plot([x_train_uni[0], y_train_uni[0], baseline(x_train_uni[0])], 0,\n",
    "           'Baseline Prediction Example')"
   ]
  },
  {
   "cell_type": "code",
   "execution_count": 28,
   "metadata": {},
   "outputs": [],
   "source": [
    "BATCH_SIZE = 100\n",
    "BUFFER_SIZE = 100\n",
    "\n",
    "train_univariate = tf.data.Dataset.from_tensor_slices((x_train_uni, y_train_uni))\n",
    "train_univariate = train_univariate.cache().shuffle(BUFFER_SIZE).batch(BATCH_SIZE).repeat()\n",
    "\n",
    "val_univariate = tf.data.Dataset.from_tensor_slices((x_val_uni, y_val_uni))\n",
    "val_univariate = val_univariate.batch(BATCH_SIZE).repeat()"
   ]
  },
  {
   "cell_type": "code",
   "execution_count": 29,
   "metadata": {},
   "outputs": [],
   "source": [
    "simple_lstm_model = tf.keras.models.Sequential([\n",
    "    tf.keras.layers.LSTM(8, input_shape=x_train_uni.shape[-2:]),\n",
    "    tf.keras.layers.Dense(1)\n",
    "])\n",
    "\n",
    "simple_lstm_model.compile(optimizer='adam', loss='mae')"
   ]
  },
  {
   "cell_type": "code",
   "execution_count": 30,
   "metadata": {},
   "outputs": [
    {
     "name": "stdout",
     "output_type": "stream",
     "text": [
      "(25, 1)\n"
     ]
    }
   ],
   "source": [
    "for x, y in val_univariate.take(1):\n",
    "    print(simple_lstm_model.predict(x).shape)"
   ]
  },
  {
   "cell_type": "code",
   "execution_count": 31,
   "metadata": {},
   "outputs": [
    {
     "name": "stdout",
     "output_type": "stream",
     "text": [
      "Train for 200 steps, validate for 50 steps\n",
      "Epoch 1/10\n",
      "200/200 [==============================] - 4s 20ms/step - loss: 0.3730 - val_loss: 0.2817\n",
      "Epoch 2/10\n",
      "200/200 [==============================] - 2s 11ms/step - loss: 0.1603 - val_loss: 0.2095\n",
      "Epoch 3/10\n",
      "200/200 [==============================] - 2s 11ms/step - loss: 0.1142 - val_loss: 0.1743\n",
      "Epoch 4/10\n",
      "200/200 [==============================] - 2s 11ms/step - loss: 0.1002 - val_loss: 0.1539\n",
      "Epoch 5/10\n",
      "200/200 [==============================] - 2s 11ms/step - loss: 0.0938 - val_loss: 0.1499\n",
      "Epoch 6/10\n",
      "200/200 [==============================] - 2s 10ms/step - loss: 0.0905 - val_loss: 0.1466\n",
      "Epoch 7/10\n",
      "200/200 [==============================] - 2s 9ms/step - loss: 0.0881 - val_loss: 0.1423\n",
      "Epoch 8/10\n",
      "200/200 [==============================] - 2s 10ms/step - loss: 0.0862 - val_loss: 0.1392\n",
      "Epoch 9/10\n",
      "200/200 [==============================] - 2s 9ms/step - loss: 0.0837 - val_loss: 0.1383\n",
      "Epoch 10/10\n",
      "200/200 [==============================] - 2s 10ms/step - loss: 0.0827 - val_loss: 0.1416\n"
     ]
    },
    {
     "data": {
      "text/plain": [
       "<tensorflow.python.keras.callbacks.History at 0x144f13550>"
      ]
     },
     "execution_count": 31,
     "metadata": {},
     "output_type": "execute_result"
    }
   ],
   "source": [
    "EVALUATION_INTERVAL = 200\n",
    "EPOCHS = 10\n",
    "\n",
    "simple_lstm_model.fit(train_univariate, epochs=EPOCHS,\n",
    "                      steps_per_epoch=EVALUATION_INTERVAL,\n",
    "                      validation_data=val_univariate, validation_steps=50)"
   ]
  },
  {
   "cell_type": "code",
   "execution_count": 35,
   "metadata": {},
   "outputs": [
    {
     "data": {
      "image/png": "[encoded data removed]",
      "text/plain": [
       "<Figure size 432x288 with 1 Axes>"
      ]
     },
     "metadata": {
      "needs_background": "light"
     },
     "output_type": "display_data"
    },
    {
     "data": {
      "image/png": "[encoded data removed]",
      "text/plain": [
       "<Figure size 432x288 with 1 Axes>"
      ]
     },
     "metadata": {
      "needs_background": "light"
     },
     "output_type": "display_data"
    },
    {
     "data": {
      "image/png": "[encoded data removed]",
      "text/plain": [
       "<Figure size 432x288 with 1 Axes>"
      ]
     },
     "metadata": {
      "needs_background": "light"
     },
     "output_type": "display_data"
    },
    {
     "data": {
      "image/png": "[encoded data removed]",
      "text/plain": [
       "<Figure size 432x288 with 1 Axes>"
      ]
     },
     "metadata": {
      "needs_background": "light"
     },
     "output_type": "display_data"
    },
    {
     "data": {
      "image/png": "[encoded data removed]",
      "text/plain": [
       "<Figure size 432x288 with 1 Axes>"
      ]
     },
     "metadata": {
      "needs_background": "light"
     },
     "output_type": "display_data"
    },
    {
     "data": {
      "image/png": "[encoded data removed]",
      "text/plain": [
       "<Figure size 432x288 with 1 Axes>"
      ]
     },
     "metadata": {
      "needs_background": "light"
     },
     "output_type": "display_data"
    },
    {
     "data": {
      "image/png": "[encoded data removed]",
      "text/plain": [
       "<Figure size 432x288 with 1 Axes>"
      ]
     },
     "metadata": {
      "needs_background": "light"
     },
     "output_type": "display_data"
    },
    {
     "data": {
      "image/png": "[encoded data removed]",
      "text/plain": [
       "<Figure size 432x288 with 1 Axes>"
      ]
     },
     "metadata": {
      "needs_background": "light"
     },
     "output_type": "display_data"
    },
    {
     "data": {
      "image/png": "[encoded data removed]",
      "text/plain": [
       "<Figure size 432x288 with 1 Axes>"
      ]
     },
     "metadata": {
      "needs_background": "light"
     },
     "output_type": "display_data"
    },
    {
     "data": {
      "image/png": "[encoded data removed]",
      "text/plain": [
       "<Figure size 432x288 with 1 Axes>"
      ]
     },
     "metadata": {
      "needs_background": "light"
     },
     "output_type": "display_data"
    }
   ],
   "source": [
    "i = 0\n",
    "for x, y in val_univariate.take(10):\n",
    "    \n",
    "    plot = show_plot([x[i].numpy(), y[i].numpy(),\n",
    "                    simple_lstm_model.predict(x)[0]], 0, 'Simple LSTM model')\n",
    "    plot.show()\n",
    "    i+=1"
   ]
  },
  {
   "cell_type": "code",
   "execution_count": 41,
   "metadata": {},
   "outputs": [
    {
     "name": "stdout",
     "output_type": "stream",
     "text": [
      "The mean squared error of the model is 0.8362548558674301\n",
      "The mean absolute error of the model is 3.5406685676332708\n"
     ]
    }
   ],
   "source": [
    "def mse(predict, ground_truth):\n",
    "\n",
    "    metric = []\n",
    "    for i in range(len(predict)):\n",
    "        metric.append((predict[i][0] - ground_truth[i])**2)\n",
    "    \n",
    "    return np.mean(np.sum(metric))\n",
    "\n",
    "\n",
    "def mae(predict, ground_truth):\n",
    "\n",
    "    metric = []\n",
    "    for i in range(len(predict)):\n",
    "        metric.append(np.abs(predict[i][0] - ground_truth[i]))\n",
    "    \n",
    "    return np.mean(np.sum(metric))\n",
    "\n",
    "print(\"The mean squared error of the model is {}\".format(mse(simple_lstm_model.predict(x), y.numpy())))\n",
    "print(\"The mean absolute error of the model is {}\".format(mae(simple_lstm_model.predict(x), y.numpy())))"
   ]
  },
  {
   "cell_type": "code",
   "execution_count": 36,
   "metadata": {},
   "outputs": [],
   "source": [
    "features_considered = ['US','United States']"
   ]
  },
  {
   "cell_type": "code",
   "execution_count": 38,
   "metadata": {
    "scrolled": false
   },
   "outputs": [
    {
     "data": {
      "text/html": [
       "<div>\n",
       "<style scoped>\n",
       "    .dataframe tbody tr th:only-of-type {\n",
       "        vertical-align: middle;\n",
       "    }\n",
       "\n",
       "    .dataframe tbody tr th {\n",
       "        vertical-align: top;\n",
       "    }\n",
       "\n",
       "    .dataframe thead th {\n",
       "        text-align: right;\n",
       "    }\n",
       "</style>\n",
       "<table border=\"1\" class=\"dataframe\">\n",
       "  <thead>\n",
       "    <tr style=\"text-align: right;\">\n",
       "      <th></th>\n",
       "      <th>US</th>\n",
       "      <th>United States</th>\n",
       "    </tr>\n",
       "    <tr>\n",
       "      <th>ds</th>\n",
       "      <th></th>\n",
       "      <th></th>\n",
       "    </tr>\n",
       "  </thead>\n",
       "  <tbody>\n",
       "    <tr>\n",
       "      <td>2009-10-04</td>\n",
       "      <td>221.572984</td>\n",
       "      <td>5424</td>\n",
       "    </tr>\n",
       "    <tr>\n",
       "      <td>2009-10-11</td>\n",
       "      <td>271.136826</td>\n",
       "      <td>6037</td>\n",
       "    </tr>\n",
       "    <tr>\n",
       "      <td>2009-10-18</td>\n",
       "      <td>294.532493</td>\n",
       "      <td>7112</td>\n",
       "    </tr>\n",
       "    <tr>\n",
       "      <td>2009-10-25</td>\n",
       "      <td>282.747261</td>\n",
       "      <td>6533</td>\n",
       "    </tr>\n",
       "    <tr>\n",
       "      <td>2009-11-01</td>\n",
       "      <td>242.148545</td>\n",
       "      <td>5722</td>\n",
       "    </tr>\n",
       "  </tbody>\n",
       "</table>\n",
       "</div>"
      ],
      "text/plain": [
       "                    US  United States\n",
       "ds                                   \n",
       "2009-10-04  221.572984           5424\n",
       "2009-10-11  271.136826           6037\n",
       "2009-10-18  294.532493           7112\n",
       "2009-10-25  282.747261           6533\n",
       "2009-11-01  242.148545           5722"
      ]
     },
     "execution_count": 38,
     "metadata": {},
     "output_type": "execute_result"
    }
   ],
   "source": [
    "features = df_sum[features_considered]\n",
    "features.index = df_sum['ds']\n",
    "features.head()"
   ]
  },
  {
   "cell_type": "code",
   "execution_count": 39,
   "metadata": {},
   "outputs": [
    {
     "data": {
      "text/plain": [
       "array([<matplotlib.axes._subplots.AxesSubplot object at 0x1463e4c10>,\n",
       "       <matplotlib.axes._subplots.AxesSubplot object at 0x14658e190>],\n",
       "      dtype=object)"
      ]
     },
     "execution_count": 39,
     "metadata": {},
     "output_type": "execute_result"
    },
    {
     "data": {
      "image/png": "[encoded data removed]",
      "text/plain": [
       "<Figure size 432x288 with 2 Axes>"
      ]
     },
     "metadata": {
      "needs_background": "light"
     },
     "output_type": "display_data"
    }
   ],
   "source": [
    "features.plot(subplots=True)"
   ]
  },
  {
   "cell_type": "code",
   "execution_count": 40,
   "metadata": {},
   "outputs": [],
   "source": [
    "dataset = features.values\n",
    "data_mean = dataset[:TRAIN_SPLIT].mean(axis=0)\n",
    "data_std = dataset[:TRAIN_SPLIT].std(axis=0)"
   ]
  },
  {
   "cell_type": "code",
   "execution_count": null,
   "metadata": {},
   "outputs": [],
   "source": []
  }
 ],
 "metadata": {
  "kernelspec": {
   "display_name": "Python 3",
   "language": "python",
   "name": "python3"
  },
  "language_info": {
   "codemirror_mode": {
    "name": "ipython",
    "version": 3
   },
   "file_extension": ".py",
   "mimetype": "text/x-python",
   "name": "python",
   "nbconvert_exporter": "python",
   "pygments_lexer": "ipython3",
   "version": "3.7.4"
  }
 },
 "nbformat": 4,
 "nbformat_minor": 2
}
